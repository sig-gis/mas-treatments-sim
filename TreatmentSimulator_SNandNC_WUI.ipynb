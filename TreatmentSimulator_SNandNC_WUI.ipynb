{
 "cells": [
  {
   "cell_type": "code",
   "execution_count": 2,
   "id": "c5e31164-d11e-45d6-98b4-b641623b8ddc",
   "metadata": {},
   "outputs": [],
   "source": [
    "import ee\n",
    "import os\n",
    "import math\n",
    "from datetime import datetime\n",
    "# from src.utils.treatment_calibration import get_dials\n",
    "from src.utils import ee_treatments\n",
    "from src.utils.yml_params import get_export_params\n",
    "yml_file = os.path.join(os.getcwd(),'config.yml')\n",
    "CRS,EXPORT_SCALE = get_export_params(yml_file)\n",
    "\n",
    "ee.Initialize(project='mas-gee')\n",
    "%load_ext autoreload\n",
    "%autoreload 2\n",
    "\n",
    "# In development phase\n",
    "tag = 'ee_treatments_export'\n",
    "ee.data.setWorkloadTag(tag)"
   ]
  },
  {
   "attachments": {},
   "cell_type": "markdown",
   "id": "2bc904bc-7607-4e66-a384-2fedde5094a8",
   "metadata": {},
   "source": [
    "## Million Acres Strategy - Treatment Simulator\n",
    "#### Creates Randomized Treatment Scenario Landscapes - exports as ee.Images\n",
    "#### This Notebook is for Run IDs: \n",
    "|RUNID | CA_REGION | INTENSITY_ID | PRIORITY |\n",
    "|------|-----------|--------------|----------|\n",
    "| 1  | Sierra Nevada | 500k | WUI |\n",
    "| 4  | Sierra Nevada | 1m   | WUI |\n",
    "| 7  | Sierra Nevada | 2m   | WUI |\n",
    "| 10 | North Coast   | 500k | WUI |\n",
    "| 13 | North Coast   | 1m   | WUI |\n",
    "| 16 | North Coast   | 2m   | WUI |\n"
   ]
  },
  {
   "attachments": {},
   "cell_type": "markdown",
   "id": "ba63a821",
   "metadata": {},
   "source": [
    "Run Settings: Change `RUNID`, `CA_REGION`, `INTENSITY_ID`, and `PRIORITY` below to setup the analysis and output file names"
   ]
  },
  {
   "cell_type": "code",
   "execution_count": 9,
   "id": "b8dd49b6",
   "metadata": {},
   "outputs": [
    {
     "name": "stdout",
     "output_type": "stream",
     "text": [
      "Output EE Image Path: projects/pyregence-ee/assets/mas/treatment_scenarios/RunID13/NC_WUI_1m_20230623\n"
     ]
    }
   ],
   "source": [
    "# this could be even less manual if CA_REGION, INTENSITY_ID, and PRIORITY were accessed from master_dict below using RUNID..\n",
    "RUNID = '13' \n",
    "CA_REGION = 'NC' # NC = North Coast; SN = Sierra Nevada\n",
    "INTENSITY_ID = '1m' \n",
    "PRIORITY = 'WUI' \n",
    "\n",
    "# for each scenario, make the treated landscape raster \n",
    "today_string = datetime.utcnow().strftime(\"%Y-%m-%d\").replace(\"-\", \"\")\n",
    "output_image = f\"projects/pyregence-ee/assets/mas/treatment_scenarios/RunID{RUNID}/{CA_REGION}_{PRIORITY}_{INTENSITY_ID}_{today_string}\"\n",
    "print(f'Output EE Image Path: {output_image}')"
   ]
  },
  {
   "attachments": {},
   "cell_type": "markdown",
   "id": "d06f1c00-707f-4c52-a9ea-1c9df7a9e419",
   "metadata": {},
   "source": [
    "Input Files & Global Variables"
   ]
  },
  {
   "cell_type": "code",
   "execution_count": 10,
   "id": "6a94304a-b6c8-4a6b-b1b5-a2e4e504ae7a",
   "metadata": {},
   "outputs": [
    {
     "name": "stdout",
     "output_type": "stream",
     "text": [
      "TREATMENT SIZE (m^2): 404685.64224\n",
      "TREATMENT SIZE (Ac): 100\n"
     ]
    }
   ],
   "source": [
    "# Sierra Nevada(SN), South Coast(SC), Central Coast(CC), North Coast(NC)\n",
    "all_hucs = ee.FeatureCollection(\"projects/pyregence-ee/assets/mas/TxPrctRankRrkWip\")\n",
    "\n",
    "# Treatable Vegetation Constraint Layer\n",
    "# For reference Herb (1), Shrub (2), Hardwood (3), softwood (4), non treatable veg is masked\n",
    "veg_constraint = ee.Image(\"projects/pyregence-ee/assets/mas/HerbShrubHardSoftImage\")\n",
    "\n",
    "# all area values must be converted to meters for GEE functions\n",
    "# we will also report things in Ac for double-checking our math\n",
    "ac_to_sqm_x = 4046.8564224\n",
    "sqm_to_ac_x = 0.000247105\n",
    "\n",
    "# Each Region's Total Treatable Vegetation Acres\n",
    "# from https://docs.google.com/spreadsheets/d/1Gnl6SO5kOkj4Ne1JdXzW4bp03824Zb1Cp_2HVuCY3Lk/edit#gid=0\n",
    "sn_area = int(round(21979145 * ac_to_sqm_x))\n",
    "sc_area = int(round(8208838 * ac_to_sqm_x))\n",
    "cc_area = int(round(7368439 * ac_to_sqm_x))\n",
    "nc_area = int(round(14716059 * ac_to_sqm_x))\n",
    "\n",
    "# acreages to treat per year per region per scenario\n",
    "# from https://docs.google.com/spreadsheets/d/1Gnl6SO5kOkj4Ne1JdXzW4bp03824Zb1Cp_2HVuCY3Lk/edit#gid=0\n",
    "master_dict = {\n",
    "    'SN':{'scenarioAcreages':{'500k':210000*ac_to_sqm_x,'1m':420000*ac_to_sqm_x,'2m':840000*ac_to_sqm_x}, \n",
    "          'RRK Name': 'Sierra Nevada Region'},\n",
    "    'SC':{'scenarioAcreages':{'500k':80000*ac_to_sqm_x,'1m':160000*ac_to_sqm_x,'2m':320000*ac_to_sqm_x}, \n",
    "          'RRK Name': 'South Coast Region'},\n",
    "    'CC':{'scenarioAcreages':{'500k':70000*ac_to_sqm_x,'1m':140000*ac_to_sqm_x,'2m':280000*ac_to_sqm_x}, \n",
    "          'RRK Name': 'Central Coast Region'},\n",
    "    'NC':{'scenarioAcreages':{'500k':140000*ac_to_sqm_x,'1m':280000*ac_to_sqm_x,'2m':560000*ac_to_sqm_x}, \n",
    "          'RRK Name': 'North Coast Region'},\n",
    "}\n",
    "\n",
    "treatment_size = 100 # acres\n",
    "TREATMENT_SIZE = treatment_size*ac_to_sqm_x # acres to m^2\n",
    "print('TREATMENT SIZE (m^2):',TREATMENT_SIZE)\n",
    "print('TREATMENT SIZE (Ac):',treatment_size)\n",
    "RADIUS = math.sqrt(TREATMENT_SIZE)/2  # in meters, rough square radius is A = (side/2) solve for side (side = sqrt(A) )"
   ]
  },
  {
   "attachments": {},
   "cell_type": "markdown",
   "id": "8bdd2620",
   "metadata": {},
   "source": [
    "Auto-calculate the necessary information for the Scenario, relies on your variables set in the first code cell at top."
   ]
  },
  {
   "cell_type": "code",
   "execution_count": 11,
   "id": "720d5f88",
   "metadata": {},
   "outputs": [
    {
     "name": "stdout",
     "output_type": "stream",
     "text": [
      "RRK Region: North Coast Region\n",
      "Area to Treat Per Year (m^2): 1133119798\n",
      "Area to Treat Per Year (Ac): 280000\n",
      "Area to treat per 5-year interval (m^2): 5665598990\n",
      "Area to treat per 5-year interval (Ac): 1399998\n"
     ]
    }
   ],
   "source": [
    "# RRK Region Name\n",
    "rrk_region = master_dict[CA_REGION]['RRK Name']\n",
    "print(f'RRK Region: {rrk_region}')\n",
    "\n",
    "# Develop the prescribed treatment amount\n",
    "total_treated_area = int(master_dict[CA_REGION]['scenarioAcreages'][INTENSITY_ID])\n",
    "print(f\"Area to Treat Per Year (m^2): {total_treated_area}\")\n",
    "total_treated_area_ac = int(round(total_treated_area*sqm_to_ac_x))\n",
    "print(f\"Area to Treat Per Year (Ac): {total_treated_area_ac}\")\n",
    "\n",
    "# we run the treatment generator as 5-year interval outputs (4 run intervals covering the 20-year period)\n",
    "# so we actually need to plug in the total area to treat per iteration (which is total_treated_area*5 )\n",
    "area_per_iteration = int(round(total_treated_area*5))\n",
    "print(f'Area to treat per 5-year interval (m^2): {area_per_iteration}')\n",
    "area_per_iteration_ac = int(round(area_per_iteration*sqm_to_ac_x))\n",
    "print(f'Area to treat per 5-year interval (Ac): {area_per_iteration_ac}')\n",
    "\n",
    "# For North Coast and Sierra Nevada WUI scenarios, we will treat the 25th, 50th and 75th percentiles of WUI rankings, \n",
    "# then re-treat 25th in the last year\n",
    "year_interval_ids = ee.List(['Y1to5',\n",
    "                             'Y6to10',\n",
    "                             'Y11to15',\n",
    "                             'Y16-20'\n",
    "                             ]\n",
    "                             )\n",
    "huc_filters = [ee.Filter.eq('TxWuiPrctl', 25),\n",
    "               ee.Filter.eq('TxWuiPrctl', 50),\n",
    "               ee.Filter.eq('TxWuiPrctl', 75),\n",
    "               ee.Filter.eq('TxWuiPrctl', 25)\n",
    "               ]\n",
    "zipped = year_interval_ids.zip(huc_filters)"
   ]
  },
  {
   "attachments": {},
   "cell_type": "markdown",
   "id": "6fb01d8a",
   "metadata": {},
   "source": [
    "Necessary functions that help us parallelize the analysis, Run and continue"
   ]
  },
  {
   "cell_type": "code",
   "execution_count": 12,
   "id": "1956e6fd",
   "metadata": {},
   "outputs": [],
   "source": [
    "def treat_by_year_huc(l):\n",
    "    zipped_list = ee.List(l)\n",
    "    filter = ee.Filter(zipped_list.get(1))\n",
    "    # Get HUC group\n",
    "    huc_group = (all_hucs.filter(ee.Filter.eq('RRK_Region', rrk_region))\n",
    "                .filter(filter)\n",
    "                # .limit(2) # for testing, reduce compute for development\n",
    "                ) \n",
    "    \n",
    "    # area_per_iteration is the prescribed area \n",
    "    # area_per_iteration_testing = area_per_iteration*(2/193) \n",
    "    \n",
    "    pixel_value_iteration = ee.Number(ee.List(zipped).indexOf(l)).add(1)\n",
    "    \n",
    "    # this is for reshuffling the random treatment placements, may be useful for re-treatments of the same huc groups\n",
    "    # we would pass a unique number to 'seed' arg in ee_treatments() each time \n",
    "    # if you don't need to reshuffle the random seed each run, don't define 'seed' arg and function will use its default seed every time\n",
    "    seeds = ee.List([10,20,30,40])\n",
    "    seed = ee.Number(ee.List(seeds).get(ee.List(zipped).indexOf(l)))\n",
    "    \n",
    "    treated_area_img, properties = ee_treatments.ee_treatments(hucs=huc_group,\n",
    "                                                  prescription=area_per_iteration, # area_per_iteration_testing , reduce compute for testing\n",
    "                                                  unit_size=TREATMENT_SIZE,\n",
    "                                                  radius=RADIUS,\n",
    "                                                  pixel_value=pixel_value_iteration,\n",
    "                                                  constraint_layer=veg_constraint,\n",
    "                                                  # seed=seed # passing seed defined as diff number for every ee_treatment() run to randomize re-treatment groups\n",
    "                                                  )\n",
    "    return treated_area_img,properties\n",
    "\n",
    "def remap_keys(d):\n",
    "  # solves a QA property problem for ee_treatments(): we have duplicate key names in the properties dict \n",
    "  # when multiple ee_treatments() results are combined together\n",
    "  # so we create a unique identifier from yearInterval and remove yearInterval as a property itself, \n",
    "  # remapped k,v pairs with yearInterval unique identifiers\n",
    "  # example: 'PropertyName': PropertyValues becomes 'yearInterval1PropertyName': PropertyValue\n",
    "  d = ee.Dictionary(d)\n",
    "  yearInterval = (ee.String('yearInterval')\n",
    "  .cat(ee.Number(ee.Dictionary(d).get('yearInterval')).format()))\n",
    "  keys = d.keys().slice(0,7) # depends on yearInterval property being in index position 7 of property list returned by ee_treatments()\n",
    "  values = d.values().slice(0,7)\n",
    "  remapped_keys = keys.map(lambda s: ee.String(yearInterval).cat(s))\n",
    "  return ee.Dictionary.fromLists(remapped_keys,values)\n",
    "\n",
    "def combine_dicts(d):\n",
    "   d = ee.Dictionary(d)\n",
    "   return d.keys().zip(d.values())"
   ]
  },
  {
   "attachments": {},
   "cell_type": "markdown",
   "id": "f0576d6f-47ed-445e-8b68-c94d8c382905",
   "metadata": {},
   "source": [
    "Create treated area ee.Images for every year interval on its assigned group of HUCs"
   ]
  },
  {
   "cell_type": "code",
   "execution_count": 13,
   "id": "a2a9bc91",
   "metadata": {},
   "outputs": [
    {
     "name": "stdout",
     "output_type": "stream",
     "text": [
      "Export Started for projects/pyregence-ee/assets/mas/treatment_scenarios/RunID13/NC_WUI_1m_20230623\n"
     ]
    }
   ],
   "source": [
    "# We use .map() to parallelize computation of treatment area images across the four 5-year intervals, \n",
    "# treating equal amount of area within each percentile ranking list, returning 4 treatment ee.Images, \n",
    "# then mosaicking them into one ee.Image for export\n",
    "\n",
    "# returns ee.List(tuple1(ee.Image1,ee.Dictionary1),tuple2(ee.Image2,ee.Dictionary2),tuple3(etc))\n",
    "results = ee.List(zipped).map(treat_by_year_huc) \n",
    "\n",
    "# parse the images and properties out of the (image,properties) tuples by .map()ing over results\n",
    "images = results.map(lambda t: ee.List(t).get(0)) \n",
    "properties = results.map(lambda t: ee.List(t).get(1))\n",
    "\n",
    "# remap the keys of the properties so they are unique per ee_treatments() image run, then combine into one properties dict\n",
    "all_properties = properties.map(remap_keys).map(combine_dicts).flatten()\n",
    "# print(all_properties.getInfo())\n",
    "\n",
    "# mosaic all ee_treatment() images together and set the fixed properties \n",
    "output = ee.Image(ee.ImageCollection.fromImages(images).mosaic()).set(all_properties)\n",
    "\n",
    "# export\n",
    "run_id = f'RUNID{RUNID}'\n",
    "desc = f'{run_id}_{os.path.basename(output_image)}'\n",
    "ee_treatments.export_img(output,desc,output_image,all_hucs.geometry(),30,'EPSG:5070')"
   ]
  }
 ],
 "metadata": {
  "kernelspec": {
   "display_name": "Python 3.8.13 ('gee')",
   "language": "python",
   "name": "python3"
  },
  "language_info": {
   "codemirror_mode": {
    "name": "ipython",
    "version": 3
   },
   "file_extension": ".py",
   "mimetype": "text/x-python",
   "name": "python",
   "nbconvert_exporter": "python",
   "pygments_lexer": "ipython3",
   "version": "3.8.13"
  },
  "vscode": {
   "interpreter": {
    "hash": "5456adbb3bcda72c3f039b556ea69b5085f7c81f44c93a142b7acd907f0ad587"
   }
  }
 },
 "nbformat": 4,
 "nbformat_minor": 5
}
