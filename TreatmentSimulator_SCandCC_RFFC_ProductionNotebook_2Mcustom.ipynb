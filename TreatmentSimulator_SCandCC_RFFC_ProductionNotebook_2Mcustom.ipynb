{
 "cells": [
  {
   "cell_type": "code",
   "execution_count": 27,
   "id": "c5e31164-d11e-45d6-98b4-b641623b8ddc",
   "metadata": {},
   "outputs": [
    {
     "name": "stdout",
     "output_type": "stream",
     "text": [
      "The autoreload extension is already loaded. To reload it, use:\n",
      "  %reload_ext autoreload\n"
     ]
    }
   ],
   "source": [
    "import ee\n",
    "import os\n",
    "import math\n",
    "from datetime import datetime\n",
    "from src.utils import ee_treatments\n",
    "from src.utils import runs\n",
    "from src.utils.check_exists import check_exists\n",
    "from src.utils.yml_params import get_export_params\n",
    "yml_file = os.path.join(os.getcwd(),'config.yml')\n",
    "CRS,EXPORT_SCALE = get_export_params(yml_file)\n",
    "\n",
    "ee.Initialize(project='mas-gee')\n",
    "%load_ext autoreload\n",
    "%autoreload 2\n",
    "\n",
    "# In development phase\n",
    "tag = 'ee_treatments_production'\n",
    "ee.data.setWorkloadTag(tag)"
   ]
  },
  {
   "attachments": {},
   "cell_type": "markdown",
   "id": "2bc904bc-7607-4e66-a384-2fedde5094a8",
   "metadata": {},
   "source": [
    "## Million Acres Strategy - Treatment Simulator\n",
    "#### Creates Randomized Treatment Scenario Landscapes - exports as ee.Images\n",
    "#### This Notebook is for Run IDs: \n",
    "|RunID | CA_REGION | INTENSITY_ID | PRIORITY |\n",
    "|------|-----------|--------------|----------|\n",
    "| 26 | South Coast | 2m   | RFFC |\n",
    "| 35 | Central Coast   | 2m   | RFFC |"
   ]
  },
  {
   "attachments": {},
   "cell_type": "markdown",
   "id": "ba63a821",
   "metadata": {},
   "source": [
    "Run Settings: Change `RUNID` below to setup the analysis and output file names"
   ]
  },
  {
   "cell_type": "code",
   "execution_count": 28,
   "id": "e8b92d55",
   "metadata": {},
   "outputs": [],
   "source": [
    "RUNID = 'RunID35' "
   ]
  },
  {
   "attachments": {},
   "cell_type": "markdown",
   "id": "b8cd85d3",
   "metadata": {},
   "source": [
    "Auto-calculate the necessary information for the Scenario\n",
    "\n",
    "Double-Check the Output Calcs are Correct against the [Spreadsheet](https://docs.google.com/spreadsheets/d/1Gnl6SO5kOkj4Ne1JdXzW4bp03824Zb1Cp_2HVuCY3Lk/edit#gid=0\n",
    ")"
   ]
  },
  {
   "cell_type": "code",
   "execution_count": 29,
   "id": "b8dd49b6",
   "metadata": {},
   "outputs": [
    {
     "name": "stdout",
     "output_type": "stream",
     "text": [
      "Output EE Image Path: projects/mas-gee/assets/treatment_scenarios/RunID35/CC_RFFC_2m_20231103\n",
      "TREATMENT SIZE (m^2): 404685.64224\n",
      "TREATMENT SIZE (Ac): 100\n",
      "Area to Treat Per Year (m^2): 1303087768.0128\n",
      "Area to Treat Per Year (Ac): 322000\n",
      "Area to treat per 5-year interval (m^2): 6515438840\n",
      "Area to treat per 5-year interval (Ac): 1609998\n"
     ]
    }
   ],
   "source": [
    "# string identifiers for output file\n",
    "CA_REGION = runs.key[RUNID]['RegionID'] # NC = North Coast; SN = Sierra Nevada\n",
    "INTENSITY_ID = runs.key[RUNID]['IntensityID'] \n",
    "PRIORITY = runs.key[RUNID]['PriorityID'] \n",
    "\n",
    "# construct output path\n",
    "today_string = datetime.utcnow().strftime(\"%Y-%m-%d\").replace(\"-\", \"\")\n",
    "output_image = f\"projects/mas-gee/assets/treatment_scenarios/{RUNID}/{CA_REGION}_{PRIORITY}_{INTENSITY_ID}_{today_string}\"\n",
    "print(f'Output EE Image Path: {output_image}')\n",
    "\n",
    "# treatment size is static and set in runs.py\n",
    "treatment_size_ac = runs.treatment_size_ac \n",
    "TREATMENT_SIZE = runs.treatment_size_sqm \n",
    "print('TREATMENT SIZE (m^2):',TREATMENT_SIZE)\n",
    "print('TREATMENT SIZE (Ac):',treatment_size_ac)\n",
    "RADIUS = math.sqrt(TREATMENT_SIZE)/2  # in meters, rough square radius is A = (side/2) solve for side (side = sqrt(A) )\n",
    "\n",
    "sqm_to_ac_x = 0.000247105\n",
    "\n",
    "# pull prescribed treatment area in both units, we use sqm for analysis and acreage for reporting\n",
    "total_treated_area = runs.key[RUNID]['sqmPerYear']\n",
    "print(f\"Area to Treat Per Year (m^2): {total_treated_area}\")\n",
    "total_treated_area_ac = runs.key[RUNID]['acreagePerYear']\n",
    "print(f\"Area to Treat Per Year (Ac): {total_treated_area_ac}\")\n",
    "\n",
    "# we run the treatment generator as 5-year interval outputs (4 run intervals covering the 20-year period)\n",
    "# so we actually need to total_treated_area*5 to the ee_treatments() generator\n",
    "area_per_iteration = int(round(total_treated_area*5))\n",
    "print(f'Area to treat per 5-year interval (m^2): {area_per_iteration}')\n",
    "area_per_iteration_ac = int(round(area_per_iteration*sqm_to_ac_x))\n",
    "print(f'Area to treat per 5-year interval (Ac): {area_per_iteration_ac}')"
   ]
  },
  {
   "attachments": {},
   "cell_type": "markdown",
   "id": "d06f1c00-707f-4c52-a9ea-1c9df7a9e419",
   "metadata": {},
   "source": [
    "Input Files"
   ]
  },
  {
   "cell_type": "code",
   "execution_count": 30,
   "id": "6a94304a-b6c8-4a6b-b1b5-a2e4e504ae7a",
   "metadata": {},
   "outputs": [],
   "source": [
    "# Sierra Nevada(SN), South Coast(SC), Central Coast(CC), North Coast(NC)\n",
    "all_hucs = ee.FeatureCollection(\"projects/mas-gee/assets/TxHucScCc\")\n",
    "# property names differ between Wui, BP, and RFFc\n",
    "\n",
    "# Treatable Veg Constraint Layer\n",
    "# is result of Softwoods OR Road Grids \n",
    "# dev note - keep in mind there's some false positive data in eastern portion of extent due to Softwood layer being all of CA\n",
    "# but ee_treatments should handle that fine using the extent of the HUC groups which excludes those areas\n",
    "veg_constraint = ee.Image(\"projects/mas-gee/assets/softwoodsOrRoadGridsImg\")\n"
   ]
  },
  {
   "attachments": {},
   "cell_type": "markdown",
   "id": "88dbf1b5",
   "metadata": {},
   "source": [
    "Specific Set up for South Coast and Central Coast RFFC Prioritization. \n",
    "\n",
    "see [Treatment Allocation Runs sheet](https://docs.google.com/spreadsheets/d/1Gnl6SO5kOkj4Ne1JdXzW4bp03824Zb1Cp_2HVuCY3Lk/edit#gid=0)\n",
    "\n",
    "* 25th percentile HUC group in Year Interval 1\n",
    "* 50th percentile HUC group in Year Interval 2\n",
    "* 75th percentile HUC group in Year Interval 3\n",
    "* 100th percentile HUC group in Year Interval 4"
   ]
  },
  {
   "cell_type": "code",
   "execution_count": 31,
   "id": "8318bc6b",
   "metadata": {},
   "outputs": [],
   "source": [
    "year_interval_ids = ee.List(['Y1to5',\n",
    "                             'Y6to10',\n",
    "                             'Y11to15',\n",
    "                             'Y16-20'\n",
    "                             ]\n",
    "                             )\n",
    "huc_filters = [ee.Filter.eq('TxRffcP', 25),\n",
    "               ee.Filter.eq('TxRffcP', 50),\n",
    "               ee.Filter.eq('TxRffcP', 75),\n",
    "               ee.Filter.eq('TxRffcP', 100)\n",
    "               ]\n",
    "# zipping ee.Lists is a good way to parallelize complicated things in GEE with .map()\n",
    "zipped = year_interval_ids.zip(huc_filters)"
   ]
  },
  {
   "attachments": {},
   "cell_type": "markdown",
   "id": "6fb01d8a",
   "metadata": {},
   "source": [
    "Pay attention to `overshoot` value passed in `ee_treatments()` call. It is your dial. "
   ]
  },
  {
   "cell_type": "code",
   "execution_count": 32,
   "id": "fabc7615",
   "metadata": {},
   "outputs": [],
   "source": [
    "PT_OVERSHOOT = 2.8"
   ]
  },
  {
   "cell_type": "code",
   "execution_count": 33,
   "id": "1956e6fd",
   "metadata": {},
   "outputs": [],
   "source": [
    "# for QA test runs, get biggest and largest HUC poly per percentile group, may need to coded into this treat_by_year_huc() \n",
    "def treat_by_year_huc(l):\n",
    "    \"\"\"\n",
    "    this is to be map()ed across zipped (year intervals and percentile huc filters) to parallelize use of ee_treatments()\n",
    "        result is one ee.Image of treatment areas per yearInterval/HUC Group element in zipped     \n",
    "    \"\"\"\n",
    "    zipped_list = ee.List(l)\n",
    "    ranks_filter = ee.Filter(zipped_list.get(1))\n",
    "    \n",
    "    # Get HUC group\n",
    "    huc_group = (all_hucs.filter(ee.Filter.eq('RRK_Rgn', runs.key[RUNID]['Region Filter Name']))\n",
    "                .filter(ranks_filter)\n",
    "                # .limit(2) # for testing, reduce compute for development\n",
    "                ) \n",
    "    \n",
    "    # area_per_iteration is the prescribed area \n",
    "    # area_per_iteration_testing = area_per_iteration*(2/193) \n",
    "    \n",
    "    pixel_value_iteration = ee.Number(ee.List(zipped).indexOf(l)).add(1)\n",
    "    \n",
    "    # this is for reshuffling the random treatment placements, may be useful for re-treatments of the same huc groups\n",
    "    # we would pass a unique number to 'seed' arg in ee_treatments() each time \n",
    "    # if you don't need to reshuffle the random seed each run, don't define 'seed' arg and function will use its default seed every time\n",
    "    seeds = ee.List([10,20,30,40])\n",
    "    seed = ee.Number(ee.List(seeds).get(ee.List(zipped).indexOf(l)))\n",
    "    \n",
    "    treated_area_img, properties = ee_treatments.ee_treatments(hucs=huc_group,\n",
    "                                                  prescription=area_per_iteration, # area_per_iteration_testing , reduce compute for testing\n",
    "                                                  unit_size=TREATMENT_SIZE,\n",
    "                                                  radius=RADIUS,\n",
    "                                                  pixel_value=pixel_value_iteration,\n",
    "                                                  constraint_layer=veg_constraint,\n",
    "                                                  # seed=seed # passing seed defined as diff number for every ee_treatment() run to randomize re-treatment groups\n",
    "                                                  ptOvershoot=PT_OVERSHOOT # we dial this in per scenario to get close to a 1:1 of Needed:Generated\n",
    "                                                  )\n",
    "    return treated_area_img,properties\n",
    "\n",
    "def remap_keys(d):\n",
    "  \"\"\"\n",
    "  solves a QA property problem for ee_treatments(): we have duplicate key names in the properties dict \n",
    "  when multiple ee_treatments() results are combined together.\n",
    "  So we create a unique identifier from 'yearInterval' and remove 'yearInterval' as a property itself.\n",
    "  example: 'PropertyName': PropertyValue becomes 'yearInterval1PropertyName': PropertyValue\n",
    "  \"\"\"\n",
    "  d = ee.Dictionary(d)\n",
    "  yearInterval = (ee.String('yearInterval')\n",
    "  .cat(ee.Number(ee.Dictionary(d).get('yearInterval')).format()))\n",
    "  keys = d.keys().slice(0,7) # depends on yearInterval property being in index position 7 of property list returned by ee_treatments()\n",
    "  values = d.values().slice(0,7)\n",
    "  remapped_keys = keys.map(lambda s: ee.String(yearInterval).cat(s))\n",
    "  return ee.Dictionary.fromLists(remapped_keys,values)\n",
    "\n",
    "def combine_dicts(d):\n",
    "   d = ee.Dictionary(d)\n",
    "   return d.keys().zip(d.values())"
   ]
  },
  {
   "attachments": {},
   "cell_type": "markdown",
   "id": "f0576d6f-47ed-445e-8b68-c94d8c382905",
   "metadata": {},
   "source": [
    "Create treated area ee.Images for every year interval on its assigned group of HUCs"
   ]
  },
  {
   "cell_type": "code",
   "execution_count": 34,
   "id": "a2a9bc91",
   "metadata": {},
   "outputs": [],
   "source": [
    "# We use .map() to parallelize computation of treatment area images across the four 5-year intervals, \n",
    "# treating equal amount of area within each percentile ranking list, returning 4 treatment ee.Images, \n",
    "# then mosaicking them into one ee.Image for export\n",
    "\n",
    "# returns ee.List((ee.Image1,ee.Dictionary1),(ee.Image2,ee.Dictionary2),(etc))\n",
    "results = ee.List(zipped).map(treat_by_year_huc) \n",
    "\n",
    "# parse the images and properties out of the (image,properties) tuples by .map()ing over results\n",
    "images = results.map(lambda t: ee.List(t).get(0)) \n",
    "properties = results.map(lambda t: ee.List(t).get(1))\n",
    "\n",
    "# remap the keys of the properties so they are unique per ee_treatments() image run, then combine into one properties dict\n",
    "all_properties = properties.map(remap_keys).map(combine_dicts).flatten()\n",
    "# print(all_properties.getInfo())\n",
    "\n",
    "# mosaic all ee_treatment() images together and set the fixed properties \n",
    "output = ee.Image(ee.ImageCollection.fromImages(images).mosaic()).set(all_properties)\n",
    "\n"
   ]
  },
  {
   "cell_type": "markdown",
   "id": "00274dbc",
   "metadata": {},
   "source": [
    "Export the `ee_treatment` image."
   ]
  },
  {
   "cell_type": "code",
   "execution_count": 35,
   "id": "d8806337",
   "metadata": {},
   "outputs": [],
   "source": [
    "# export\n",
    "# desc = f'{RUNID}_{os.path.basename(output_image)}'\n",
    "\n",
    "# folder = os.path.dirname(output_image)\n",
    "# if check_exists(folder):\n",
    "#     print(f'making new folder: {folder}')\n",
    "#     os.popen(f'earthengine create folder {folder}').read()\n",
    "# ee_treatments.export_img(output,desc,output_image,all_hucs.geometry(),30,'EPSG:5070')"
   ]
  },
  {
   "cell_type": "markdown",
   "id": "ae3bf02b",
   "metadata": {},
   "source": [
    "### Now the retreatment code\n",
    "\n",
    "To get close to hitting 2.3M target we need to introduce a subsequent re-treatment of the Road Grid areas in previously treated pctGroup HUCs \n",
    "\n",
    "We do the pixel value assignment same as in ee_treatments (Year Interval (YI) x is assigned pixel value x), \n",
    "\n",
    "the re-treated areas would go accordingly: \n",
    "* re-treat pctGroup1 HUCs in Year 10 (YI2 [years 5-10]) - pixel value of 2 in all road grid pixels in pctGroup1 HUCs \n",
    "* re-treat pctGroup 3 HUCs in Year 20 (YI4 [years 15-20]) - pixel value of 4 in all road grid pixels in pctGroup3 HUCs \n",
    "\n",
    "We will make and export the ee_treatments and re-treatment images separately, then run the FM40 crosswalks on them individually, and mosaic the pair of updated FM40s together. I found this is less messy than mosaicking the two treated images together then doing FM40 crosswalk on that treatment image mosaic. \n",
    "\n",
    "The result of this notebook is to have two treatment images:\n",
    "* `runID..YYYYMMdd` (ee_treatments image, exported above)\n",
    "* `runID..YYYYMMdd_retreatment_only` (retreatment image, code below)\n",
    "\n",
    "Info in table form:\n",
    "|GridFire Year | original ee_treatment | road grid re-treatment | pixel values to Fm40 crosswalk |\n",
    "|------|-----------|--------------|----------|\n",
    "| 5  | pctGroup1, burn-in=1 | None                   | 1 (only treated in Y5) |\n",
    "| 10 | pctGroup2, burn-in=2 | **pctGroup1, burn-in=2**   | 2 (treated Y10) |\n",
    "| 15 | pctGroup3, burn-in=3 | None                  | 3 (treated Y15)       |\n",
    "| 20 | pctGroup1, burn-in=4 | **pctGroup3, burnin=4**   | 4 (treated Y20)      | "
   ]
  },
  {
   "cell_type": "code",
   "execution_count": 36,
   "id": "43014cd3",
   "metadata": {},
   "outputs": [
    {
     "name": "stdout",
     "output_type": "stream",
     "text": [
      "projects/mas-gee/assets/ccTxGridRoadImageNotSW\n"
     ]
    }
   ],
   "source": [
    "# get road grids image for SC or CC\n",
    "road_grids = ee.Image(runs.key[RUNID]['RoadGrids']+'NotSW') # add 'NotSW' to change ee.Image asset only for use for 2.3M CC/SC\n",
    "print(road_grids.get('system:id').getInfo())\n",
    "# YI2 (pixel value 2) in pctGroup1 and YI4 (pixel value 4) in pctGroup3\n",
    "year_interval_ids = ee.List(['Y6-10',\n",
    "                             'Y16-20'])\n",
    "ranked_huc_filters = [ee.Filter.eq('TxRffcP', 25), # pctGroup1\n",
    "                      ee.Filter.eq('TxRffcP', 75)] # pctGroup3\n",
    "\n",
    "# zipping ee.Lists is a good way to parallelize complicated things in GEE with .map()\n",
    "zipped = year_interval_ids.zip(ranked_huc_filters)\n"
   ]
  },
  {
   "cell_type": "code",
   "execution_count": 37,
   "id": "738b1b3e",
   "metadata": {},
   "outputs": [
    {
     "name": "stdout",
     "output_type": "stream",
     "text": [
      "index 1\n",
      "pixel value 4\n"
     ]
    }
   ],
   "source": [
    "# define similar per HUC group function as used for ee_treatments mapping\n",
    "def treat_by_year_huc_road_grid(l):\n",
    "    \"\"\"\n",
    "    this is to be map()ed across zipped (year intervals and percentile huc filters) to parallelize use of ee_treatments()\n",
    "        result is one ee.Image of treatment areas per yearInterval/HUC Group element in zipped     \n",
    "    \"\"\"\n",
    "    zipped_list = ee.List(l)\n",
    "    ranks_filter = ee.Filter(zipped_list.get(1))\n",
    "    \n",
    "    # Get HUC group\n",
    "    huc_group = (all_hucs.filter(ee.Filter.eq('RRK_Rgn', runs.key[RUNID]['Region Filter Name']))\n",
    "                .filter(ranks_filter)\n",
    "                ) \n",
    "    # rather than passing in another list zipped up in mappable object we just retrieve the right pixel value \n",
    "    # (2,4) for each image in the list by indexing the original zipped list, \n",
    "    # then retrieving pixel value at same index position\n",
    "    index_pixel_values = ee.List([2,4])\n",
    "    index_l = zipped.indexOf(l)\n",
    "    pixel_value = index_pixel_values.get(index_l)\n",
    "    road_grid_huc = (road_grids.unmask(0) # ensure its binary 1/0\n",
    "                     .clip(huc_group)\n",
    "                     .multiply(ee.Number(pixel_value)))\n",
    "    return road_grid_huc.set('index_l',index_l,'pixel_value',pixel_value)\n",
    "    \n",
    "# .map() the by-year by-huc group function \n",
    "road_grid_treated = ee.List(zipped).map(treat_by_year_huc_road_grid) \n",
    "print('index',ee.Image(ee.List(road_grid_treated).get(1)).get('index_l').getInfo()) # two items, index 0 and 1 \n",
    "print('pixel value',ee.Image(ee.List(road_grid_treated).get(1)).get('pixel_value').getInfo()) # two pixel values, 2 and 4\n",
    "\n",
    "# pull out each road_grid image with its designated pixel value representing YI 2, YI 4\n",
    "road_grid_2 = ee.Image(road_grid_treated.get(0))\n",
    "road_grid_4 = ee.Image(road_grid_treated.get(1))\n",
    "\n",
    "# composite them using max reducer\n",
    "road_grid_combined = ee.Image((road_grid_2)\n",
    "                      .addBands(road_grid_4)\n",
    "                      .reduce(ee.Reducer.max())\n",
    "                      .rename('Tx')\n",
    "                      .selfMask())\n"
   ]
  },
  {
   "cell_type": "markdown",
   "id": "16c3998e",
   "metadata": {},
   "source": [
    "Export the re-treatment image"
   ]
  },
  {
   "cell_type": "code",
   "execution_count": 38,
   "id": "f8b4efe7",
   "metadata": {},
   "outputs": [
    {
     "name": "stdout",
     "output_type": "stream",
     "text": [
      "Export Started for projects/mas-gee/assets/treatment_scenarios/RunID35/CC_RFFC_2m_20231103_retreatment_only\n"
     ]
    }
   ],
   "source": [
    "# export\n",
    "desc = f'{RUNID}_{os.path.basename(output_image)}_retreatment_only'\n",
    "\n",
    "folder = os.path.dirname(output_image)\n",
    "if check_exists(folder):\n",
    "    print(f'making new folder: {folder}')\n",
    "    os.popen(f'earthengine create folder {folder}').read()\n",
    "ee_treatments.export_img(road_grid_combined,desc,output_image+'_retreatment_only',all_hucs.geometry(),30,'EPSG:5070')"
   ]
  },
  {
   "cell_type": "code",
   "execution_count": 39,
   "id": "4403b4fc",
   "metadata": {},
   "outputs": [],
   "source": [
    "# import geemap\n",
    "# Map = geemap.Map()\n",
    "\n",
    "# Map.addLayer(road_grids,{},'Road Grid Img')\n",
    "# Map.addLayer(ee.Image(road_grid_treated.get(0)),{'min':1,'max':4,'palette':['blue','green','red']},'road_grid_treated 1 img')\n",
    "# Map.addLayer(ee.Image(road_grid_treated.get(1)),{'min':1,'max':4,'palette':['blue','green','red']},'road_grid_treated 2 img')\n",
    "# Map.addLayer(ee.Image(road_grid_treated.get(2)),{'min':1,'max':4,'palette':['blue','green','red']},'road_grid_treated 3 img')\n",
    "# Map.addLayer(road_grid_combined,{'min':1,'max':4,'palette':['blue','green','red']},'output road grid reduced')\n",
    "\n",
    "# scenario_hucs = all_hucs.filter(ee.Filter.eq('RRK_Rgn', runs.key[RUNID]['Region Filter Name']))\n",
    "# scn_hucs_y1 = scenario_hucs.filter(ee.Filter.eq('TxWPrct', 25))\n",
    "# scn_hucs_y2 = scenario_hucs.filter(ee.Filter.eq('TxWPrct', 50))\n",
    "# scn_hucs_y4 = scenario_hucs.filter(ee.Filter.eq('TxWPrct', 25))\n",
    "# Map.addLayer(scn_hucs_y1,{'color':'black'},'scenario HUCS 1')\n",
    "# Map.addLayer(scn_hucs_y2,{'color':'black'},'scenario HUCS 2')\n",
    "# Map.addLayer(scn_hucs_y4,{'color':'black'},'scenario HUCS 4')\n",
    "\n",
    "# Map.centerObject(road_grids,10)\n",
    "# Map"
   ]
  }
 ],
 "metadata": {
  "kernelspec": {
   "display_name": "Python 3.8.13 ('gee')",
   "language": "python",
   "name": "python3"
  },
  "language_info": {
   "codemirror_mode": {
    "name": "ipython",
    "version": 3
   },
   "file_extension": ".py",
   "mimetype": "text/x-python",
   "name": "python",
   "nbconvert_exporter": "python",
   "pygments_lexer": "ipython3",
   "version": "3.8.18"
  },
  "vscode": {
   "interpreter": {
    "hash": "5456adbb3bcda72c3f039b556ea69b5085f7c81f44c93a142b7acd907f0ad587"
   }
  }
 },
 "nbformat": 4,
 "nbformat_minor": 5
}
