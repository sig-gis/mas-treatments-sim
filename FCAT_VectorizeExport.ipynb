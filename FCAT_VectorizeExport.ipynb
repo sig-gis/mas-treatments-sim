{
 "cells": [
  {
   "attachments": {},
   "cell_type": "markdown",
   "metadata": {},
   "source": [
    "Once your ee.Image is exported to GEE, run this to vectorize the ee.Image and export it as shapefile to Google Drive. \n",
    "\n",
    "FCAT format requires shapefile with unique codes identifying the treatment timing"
   ]
  },
  {
   "cell_type": "code",
   "execution_count": 11,
   "metadata": {},
   "outputs": [
    {
     "name": "stdout",
     "output_type": "stream",
     "text": [
      "The autoreload extension is already loaded. To reload it, use:\n",
      "  %reload_ext autoreload\n"
     ]
    }
   ],
   "source": [
    "import ee\n",
    "import os\n",
    "from src.utils.yml_params import get_export_params\n",
    "from src.utils import runs\n",
    "yml_file = os.path.join(os.getcwd(),'config.yml')\n",
    "CRS,EXPORT_SCALE = get_export_params(yml_file)\n",
    "\n",
    "ee.Initialize(project='mas-gee')\n",
    "%load_ext autoreload\n",
    "%autoreload 2\n",
    "\n",
    "# In development phase\n",
    "tag = 'vectorize_export'\n",
    "ee.data.setWorkloadTag(tag)"
   ]
  },
  {
   "attachments": {},
   "cell_type": "markdown",
   "metadata": {},
   "source": [
    "INPUT YOUR EE TREATMENT ASSET PATH BELOW THEN RUN ALL"
   ]
  },
  {
   "cell_type": "code",
   "execution_count": 12,
   "metadata": {},
   "outputs": [
    {
     "name": "stdout",
     "output_type": "stream",
     "text": [
      "RunID35\n"
     ]
    }
   ],
   "source": [
    "ee_treat_img_path = \"projects/mas-gee/assets/treatment_scenarios/RunID35/CC_RFFC_2m_20231020\"\n",
    "RUNID=ee_treat_img_path.split('/')[4]\n",
    "print(RUNID)"
   ]
  },
  {
   "cell_type": "code",
   "execution_count": 13,
   "metadata": {},
   "outputs": [
    {
     "name": "stdout",
     "output_type": "stream",
     "text": [
      "Output Shapefile Path: RunID35_TreatmentsSHP_CC_RFFC_2m_20231020\n",
      "Vectorize_RunID35_TreatmentsSHP_CC_RFFC_2m_20231020\n"
     ]
    }
   ],
   "source": [
    "run_id = os.path.dirname(ee_treat_img_path).split('/')[-1]\n",
    "output_shapefile = f'{run_id}_TreatmentsSHP_{os.path.basename(ee_treat_img_path)}'\n",
    "print(f'Output Shapefile Path: {output_shapefile}')\n",
    "desc = f'Vectorize_{os.path.basename(output_shapefile)}'\n",
    "print(desc)\n",
    "\n",
    "img = ee.Image(ee_treat_img_path)\n",
    "folder = f'MAS_FCATtreatments'\n",
    "\n",
    "# vectorize the image\n",
    "vectors = ee.Image(img).reduceToVectors(**{\n",
    "    # 'reducer':ee.Reducer.firstNonNull(), \n",
    "    # geometry, \n",
    "    'scale':30, \n",
    "    'geometryType':'polygon', \n",
    "    'eightConnected':True, \n",
    "    'labelProperty':'tx_code', # FCAT required field name\n",
    "    'crs':CRS, \n",
    "    # crsTransform, \n",
    "    'bestEffort':True, \n",
    "    'maxPixels':1e13, \n",
    "    'tileScale':4, \n",
    "    'geometryInNativeProjection':True})\n",
    "\n",
    "# other FCAT required fields \n",
    "vectors = vectors.map(lambda f: f.set('kcp_exists',1))\n",
    "# print(vectors.first().getInfo()['properties'])"
   ]
  },
  {
   "cell_type": "code",
   "execution_count": 14,
   "metadata": {},
   "outputs": [],
   "source": [
    "lookupIn = ee.List(runs.key[RUNID][\"vecCodeLookUpList\"])\n",
    "lookupOut = ee.List(runs.key[RUNID][\"vecTypeLookUpList\"])\n",
    "zipped_list = lookupIn.zip(lookupOut)\n",
    "# print(zipped_list.getInfo())\n",
    "def fcFieldRemapper (l):\n",
    "    in_val = ee.List(l).get(0)\n",
    "    out_val = ee.List(l).get(1)\n",
    "    filteredFeats = (\n",
    "        (vectors.filter(ee.Filter.eq('tx_code',in_val)) # get all Features w a given tx_code\n",
    "         .map( # for each Feature in that filter result, set tx_code and tx_type props\n",
    "            lambda f: ee.Feature(f).set('tx_code',in_val,'tx_type',out_val)\n",
    "            .copyProperties(vectors))\n",
    "        ))\n",
    "    return ee.FeatureCollection(filteredFeats) \n",
    "\n",
    "final_output = ee.FeatureCollection(zipped_list.map(fcFieldRemapper)).flatten()\n",
    "# print('test we are setting tx_type and code properly..\\n',\n",
    "#       final_output.first().getInfo()['properties'])"
   ]
  },
  {
   "cell_type": "code",
   "execution_count": 15,
   "metadata": {},
   "outputs": [
    {
     "name": "stdout",
     "output_type": "stream",
     "text": [
      "Export started for MAS_FCATtreatments/RunID35_TreatmentsSHP_CC_RFFC_2m_20231020\n"
     ]
    }
   ],
   "source": [
    "# export shapefile to Drive\n",
    "task = ee.batch.Export.table.toDrive(**{\n",
    "    'collection':final_output, \n",
    "    'description':desc, \n",
    "    'folder':folder, \n",
    "    'fileNamePrefix':output_shapefile, \n",
    "    'fileFormat':'SHP', \n",
    "    'selectors': ['count','kcp_exists','tx_code','tx_type'], \n",
    "    # 'maxVertices'\n",
    "    })\n",
    "\n",
    "task.start()\n",
    "print(f'Export started for {folder}/{output_shapefile}')"
   ]
  }
 ],
 "metadata": {
  "kernelspec": {
   "display_name": "gee",
   "language": "python",
   "name": "python3"
  },
  "language_info": {
   "codemirror_mode": {
    "name": "ipython",
    "version": 3
   },
   "file_extension": ".py",
   "mimetype": "text/x-python",
   "name": "python",
   "nbconvert_exporter": "python",
   "pygments_lexer": "ipython3",
   "version": "3.8.18"
  },
  "orig_nbformat": 4
 },
 "nbformat": 4,
 "nbformat_minor": 2
}
