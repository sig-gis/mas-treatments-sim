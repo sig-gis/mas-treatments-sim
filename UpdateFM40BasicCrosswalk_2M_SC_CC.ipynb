{
 "cells": [
  {
   "cell_type": "markdown",
   "metadata": {},
   "source": [
    "Surface Fuel Updates.. buckle up\n",
    "\n",
    "There will be 3 GridFire runs representing Year 5, Year 10, and Year 20.\n",
    "\n",
    "We have 4 year intervals in our ee_treatment simulation images, the pixel values and their Year Interval correspond:\n",
    "\n",
    "1 (years 1-5) \n",
    "2 (years 6-10) \n",
    "3 (years 11-15)\n",
    "4 (years 16-20)\n",
    "\n",
    "We want to generate newly updated FM40 layers for each GridFire run year. \n",
    "Since there is a mismatch in the cadence of GridFire run year intervals and our ee_treatments() year intervals,\n",
    "we will be updating only those treated pixels with value 1, 2, and 4 from our ee_treatment() images.\n",
    "\n",
    "For each of those pixel values (1,2,4) we will create a new updated FM40 image. The workflow is this:\n",
    "* mask to only pixels with that given value, \n",
    "* use a simplified lookup table .csv on Cloud Storage (containing from_codes and to_codes) to remap the baseline FM40 values to their updated values in those treated pixels\n",
    "* then fill in the 'untreated pixels' with the baseline FM40 image\n",
    "\n",
    "Expected Output is three Updated FM40 images per RunID\n",
    "\n",
    "Example: RUNID1 = SN WUI 500k\n",
    "Outputs:\n",
    "* GEE Asset - projects/mas-gee/assets/treatment_scenarios/RunID1/FM40_GFrun1 (updated in ee_treatment pixels==1)\n",
    "* GEE Asset - projects/mas-gee/assets/treatment_scenarios/RunID1/FM40_GFrun2 (updated in ee_treatment pixels==2)\n",
    "* GEE Asset - projects/mas-gee/assets/treatment_scenarios/RunID1/FM40_GFrun3 (updated in ee_treatment pixels==4)\n",
    "\n",
    "We also are exporting them to Google Drive in case there is a need\n",
    "* Google Drive - RunDID1_FM40_GFrun1.tif\n",
    "* Google Drive - RunDID1_FM40_GFrun2.tif\n",
    "* Google Drive - RunDID1_FM40_GFrun3.tif\n"
   ]
  },
  {
   "cell_type": "code",
   "execution_count": 22,
   "metadata": {},
   "outputs": [
    {
     "name": "stdout",
     "output_type": "stream",
     "text": [
      "The autoreload extension is already loaded. To reload it, use:\n",
      "  %reload_ext autoreload\n"
     ]
    }
   ],
   "source": [
    "import ee\n",
    "import os\n",
    "import math\n",
    "from datetime import datetime\n",
    "from src.utils import ee_treatments\n",
    "from src.utils import runs\n",
    "from src.utils.check_exists import check_exists\n",
    "from src.utils.yml_params import get_export_params\n",
    "from src.utils.ee_csv_parser import parse_txt, to_numeric\n",
    "yml_file = os.path.join(os.getcwd(),'config.yml')\n",
    "CRS,EXPORT_SCALE = get_export_params(yml_file)\n",
    "\n",
    "ee.Initialize(project='mas-gee')\n",
    "%load_ext autoreload\n",
    "%autoreload 2\n",
    "\n",
    "# In development phase\n",
    "tag = 'fm40_updates'\n",
    "ee.data.setWorkloadTag(tag)"
   ]
  },
  {
   "cell_type": "markdown",
   "metadata": {},
   "source": [
    "INPUT YOUR TREATED IMAGE PATH BELOW, THEN RUN ALL"
   ]
  },
  {
   "cell_type": "code",
   "execution_count": 23,
   "metadata": {},
   "outputs": [],
   "source": [
    "# Plug in treatment scenario ee.Image path\n",
    "treated_path = \"projects/mas-gee/assets/treatment_scenarios/RunID33/CC_Fire_1m_20231004\""
   ]
  },
  {
   "cell_type": "code",
   "execution_count": 24,
   "metadata": {},
   "outputs": [],
   "source": [
    "treated = ee.Image(treated_path)\n",
    "baseline_fm40 = ee.Image(\"projects/pyregence-ee/assets/conus/landfire/fbfm40/LF2022_FBFM40_220\")"
   ]
  },
  {
   "cell_type": "code",
   "execution_count": 25,
   "metadata": {},
   "outputs": [
    {
     "name": "stdout",
     "output_type": "stream",
     "text": [
      "[91, 92, 93, 98, 99, 101, 102, 103, 104, 121, 122, 123, 141, 142, 143, 144, 145, 146, 147, 161, 162, 163, 165, 181, 182, 183, 184, 185, 186, 187, 188, 189, 201, 202]\n",
      "[91, 92, 93, 98, 99, 101, 101, 101, 101, 121, 121, 121, 141, 141, 141, 141, 142, 141, 142, 161, 161, 161, 161, 181, 181, 181, 181, 181, 181, 181, 181, 181, 201, 201]\n"
     ]
    }
   ],
   "source": [
    "# test ee blob table encoding working properly\n",
    "blob = ee.Blob(\"gs://landfire/LFTFCT_tables/million-acres-LUTs/LANDFIRE fuel model subs - FM40.csv\")\n",
    "table = parse_txt(blob)\n",
    "\n",
    "# read in the encoded value list as numeric\n",
    "from_codes = to_numeric(ee.List(table.get(\"Original FM40_number\")))\n",
    "# read the list of values to remap to as numeric\n",
    "to_codes = to_numeric(ee.List(table.get(\"Updated FM40_number\")))\n",
    "\n",
    "print(from_codes.getInfo())\n",
    "print(to_codes.getInfo())"
   ]
  },
  {
   "cell_type": "markdown",
   "metadata": {},
   "source": [
    "For 2.3M we need each run Year FM40 to represent what that FM40 value would be at the end so for run1 (Year 5) it would just be pixel values 1 we are updating FM40s to\n",
    "\n",
    "For run2 (Year10) it would be pixel values 1.5 and 2 (areas treated in YI1 and YI2, as well as areas only treated in YI2) ? \n",
    "\n",
    "For run3 (Year20) it would be pixel values 3.5 and 4?"
   ]
  },
  {
   "cell_type": "code",
   "execution_count": null,
   "metadata": {},
   "outputs": [],
   "source": [
    "# do this with a little less complexity since the 2.3M SC/CC situation is a little confusing\n",
    "# double-chekc this doens't change for WUI?\n",
    "treatment_img = ee.Image(\"\") # once it exports\n",
    "\n",
    "year5_treated = treatment_img.eq(1).selfMask()\n",
    "year10_treated = treatment_img.eq(1.5).Or(treatment_img.eq(2)).selfMask()\n",
    "year20_treated = treatment_img.eq(3.5).Or(treatment_img.eq(4)).selfMask()\n",
    "\n",
    "year5_remap = baseline_fm40.updateMask(year5_treated).remap(from_codes,to_codes) # remap FM40 in specific treated areas\n",
    "year5_output = year5_remap.unmask(baseline_fm40).rename('new_fm40').set('GFyearInterval',1)\n",
    "\n",
    "year10_remap = baseline_fm40.updateMask(year10_treated).remap(from_codes,to_codes) # remap FM40 in specific treated areas\n",
    "year10_output = year10_remap.unmask(baseline_fm40).rename('new_fm40').set('GFyearInterval',2)\n",
    "\n",
    "year20_remap = baseline_fm40.updateMask(year20_treated).remap(from_codes,to_codes) # remap FM40 in specific treated areas\n",
    "year20_output = year20_remap.unmask(baseline_fm40).rename('new_fm40').set('GFyearInterval',3)\n",
    "\n",
    "updated_fm40s = ee.List([year5_output,\n",
    "                         year10_output,\n",
    "                         year20_output])\n",
    "\n",
    "check_one = ee.Image(ee.List(updated_fm40s).get(1)) # second Fm40\n",
    "\n"
   ]
  },
  {
   "cell_type": "code",
   "execution_count": 26,
   "metadata": {},
   "outputs": [],
   "source": [
    "# Keep in mind for WUI scenarios, ee_treatments() images don't contain pixel value 1 (YI1) because YI1 and YI4 share same footprint, \n",
    "# We re-treated top 25th pctile (originally YI1) in YI4 and the mosaicking burned over the 1's with 4s\n",
    "# if 'WUI' in treated_path:\n",
    "#     ee_treat_YI = ee.List([4,2,4])\n",
    "# else:\n",
    "#     ee_treat_YI = ee.List([1,2,4])\n",
    "\n",
    "# gridfire_YI = ee.List([1,2,3])\n",
    "# zipped = ee_treat_YI.zip(gridfire_YI)\n",
    "# # print(zipped.getInfo())\n",
    "# def per_year_update(z):\n",
    "#     pixel_value = ee.List(z).get(0)\n",
    "#     gridfire_yi = ee.List(z).get(1)\n",
    "#     treated_mask = treated.eq(ee.Number(pixel_value)).selfMask()\n",
    "#     updated_fm40 = baseline_fm40.updateMask(treated_mask).remap(from_codes,to_codes) # remap FM40 in specific treated areas\n",
    "#     output = updated_fm40.unmask(baseline_fm40) # fill in updated fm40 with baseline in non-treated areas\n",
    "#     return output.rename('new_fm40').set('GFyearInterval',gridfire_yi)\n",
    "\n",
    "# updated_fm40s = zipped.map(per_year_update)\n",
    "\n",
    "# check_one = ee.Image(ee.List(updated_fm40s).get(1)) # second Fm40\n",
    "# print(check_one.get('GFyearInterval').getInfo())"
   ]
  },
  {
   "cell_type": "code",
   "execution_count": 27,
   "metadata": {},
   "outputs": [],
   "source": [
    "# check that remap is working inside treated boxes, \n",
    "# should see 165s go to 161s, etc.. see above from_codes and to_codes printed out\n",
    "\n",
    "# import geemap\n",
    "# Map = geemap.Map()\n",
    "\n",
    "# Map.addLayer(baseline_fm40,{'min':90,'max':205},'baseline')\n",
    "# Map.addLayer(treated.eq(2).selfMask(),{min:0,max:1},'treated Y1') # treated mask for second FM40\n",
    "# Map.addLayer(check_one,{'min':90,'max':205},'updated Y1')\n",
    "\n",
    "# Map.centerObject(treated,11)\n",
    "\n",
    "# Map"
   ]
  },
  {
   "cell_type": "code",
   "execution_count": 28,
   "metadata": {},
   "outputs": [
    {
     "name": "stdout",
     "output_type": "stream",
     "text": [
      "Export Started for projects/mas-gee/assets/treatment_scenarios/RunID33/FM40_GFrun1\n",
      "Export Started (Drive): RunID33_FM40_GFrun1\n",
      "Export Started for projects/mas-gee/assets/treatment_scenarios/RunID33/FM40_GFrun2\n",
      "Export Started (Drive): RunID33_FM40_GFrun2\n",
      "Export Started for projects/mas-gee/assets/treatment_scenarios/RunID33/FM40_GFrun3\n",
      "Export Started (Drive): RunID33_FM40_GFrun3\n"
     ]
    }
   ],
   "source": [
    "# Export each FM40 in list\n",
    "# use California as output region\n",
    "ca = ee.FeatureCollection(\"TIGER/2018/States\").filter(ee.Filter.eq(\"NAME\",\"California\")).first().geometry()\n",
    "\n",
    "# use RUNID string as sub-folder in output Gdrive folder\n",
    "runID_drive = os.path.basename(os.path.dirname(treated_path)) # to get RUNID string\n",
    "\n",
    "for img in list(range(updated_fm40s.size().getInfo())):\n",
    "    output = ee.Image(updated_fm40s.get(img)).toByte()\n",
    "    year_interval = output.get('GFyearInterval').getInfo()\n",
    "    desc = f\"UpdateFM40_GFrun{year_interval}\"\n",
    "    output_path = os.path.dirname(treated_path)+\"/\"+f\"FM40_GFrun{year_interval}\"\n",
    "    ee_treatments.export_img(output,desc,output_path,ca,30,'EPSG:3310')\n",
    "    \n",
    "    ee_treatments.export_image_to_drive(image=output,\n",
    "                                        description=desc+'-Drive',\n",
    "                                        region=ca,\n",
    "                                        scale=30,\n",
    "                                        crs='EPSG:3310',\n",
    "                                        folder=f\"MAS_FM40_for_GridFire\",\n",
    "                                        fileNamePrefix=f\"{runID_drive}_FM40_GFrun{year_interval}\",\n",
    "                                        maxPixels=1e12)"
   ]
  }
 ],
 "metadata": {
  "kernelspec": {
   "display_name": "gee",
   "language": "python",
   "name": "python3"
  },
  "language_info": {
   "codemirror_mode": {
    "name": "ipython",
    "version": 3
   },
   "file_extension": ".py",
   "mimetype": "text/x-python",
   "name": "python",
   "nbconvert_exporter": "python",
   "pygments_lexer": "ipython3",
   "version": "3.8.18"
  },
  "orig_nbformat": 4
 },
 "nbformat": 4,
 "nbformat_minor": 2
}
