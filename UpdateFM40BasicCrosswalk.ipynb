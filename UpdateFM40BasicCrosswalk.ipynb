{
 "cells": [
  {
   "cell_type": "code",
   "execution_count": 4,
   "metadata": {},
   "outputs": [
    {
     "name": "stdout",
     "output_type": "stream",
     "text": [
      "The autoreload extension is already loaded. To reload it, use:\n",
      "  %reload_ext autoreload\n"
     ]
    }
   ],
   "source": [
    "import ee\n",
    "import os\n",
    "import math\n",
    "from datetime import datetime\n",
    "from src.utils import ee_treatments\n",
    "from src.utils import runs\n",
    "from src.utils.check_exists import check_exists\n",
    "from src.utils.yml_params import get_export_params\n",
    "from src.utils.ee_csv_parser import parse_txt, to_numeric\n",
    "yml_file = os.path.join(os.getcwd(),'config.yml')\n",
    "CRS,EXPORT_SCALE = get_export_params(yml_file)\n",
    "\n",
    "ee.Initialize(project='mas-gee')\n",
    "%load_ext autoreload\n",
    "%autoreload 2\n",
    "\n",
    "# In development phase\n",
    "tag = 'ee_treatments_development'\n",
    "ee.data.setWorkloadTag(tag)"
   ]
  },
  {
   "cell_type": "markdown",
   "metadata": {},
   "source": [
    "Surface Fuel Updates\n",
    "There will be GridFire runs for Year 1, Year 10, and Year 20\n",
    "We have four unique pixel values in our treatment simulation images, the values represent:\n",
    "1 (years 1-5) \n",
    "2 (years 6-10) \n",
    "3 (years 11-15)\n",
    "4 (years 16-20)\n",
    "\n",
    "We will want to generate newly updated FM40 layers for each GridFire run year, \n",
    "updating only those treated pixels valued 1,2, and 4\n",
    "\n",
    "\n",
    "We will rely on a simplified lookup table to remap those values "
   ]
  },
  {
   "cell_type": "code",
   "execution_count": 29,
   "metadata": {},
   "outputs": [],
   "source": [
    "# Plug in treatment scenario ee.Image path\n",
    "treated_path = \"projects/mas-gee/assets/treatment_scenarios/RunID1/SN_WUI_500k_20230623\"\n",
    "treated = ee.Image(treated_path)\n",
    "baseline_fm40 = ee.Image(\"projects/pyregence-ee/assets/conus/landfire/fbfm40/LF2022_FBFM40_220\")"
   ]
  },
  {
   "cell_type": "code",
   "execution_count": 6,
   "metadata": {},
   "outputs": [
    {
     "name": "stdout",
     "output_type": "stream",
     "text": [
      "[91, 92, 93, 98, 99, 101, 102, 103, 104, 121, 122, 123, 141, 142, 143, 144, 145, 146, 147, 161, 162, 163, 165, 181, 182, 183, 184, 185, 186, 187, 188, 189, 201, 202]\n",
      "[91, 92, 93, 98, 99, 101, 101, 101, 101, 121, 121, 121, 141, 141, 141, 141, 142, 141, 142, 161, 161, 161, 161, 181, 181, 181, 181, 181, 181, 181, 181, 181, 201, 201]\n"
     ]
    }
   ],
   "source": [
    "# test ee blob table encoding working properly\n",
    "blob = ee.Blob(\"gs://landfire/LFTFCT_tables/million-acres-LUTs/LANDFIRE fuel model subs - FM40.csv\")\n",
    "table = parse_txt(blob)\n",
    "\n",
    "# read in the encoded value list as numeric\n",
    "from_codes = to_numeric(ee.List(table.get(\"Original FM40_number\")))\n",
    "# read the list of values to remap to as numeric\n",
    "to_codes = to_numeric(ee.List(table.get(\"Updated FM40_number\")))\n",
    "\n",
    "print(from_codes.getInfo())\n",
    "print(to_codes.getInfo())"
   ]
  },
  {
   "cell_type": "code",
   "execution_count": 21,
   "metadata": {},
   "outputs": [
    {
     "name": "stdout",
     "output_type": "stream",
     "text": [
      "1\n"
     ]
    }
   ],
   "source": [
    "# Keep in mind for WUI YI1 and YI4 share same footprint, so mosaicking burned over the 1's with 4\n",
    "if 'WUI' in treated_path:\n",
    "    years = ee.List([4,2,4])\n",
    "else:\n",
    "    years = ee.List([1,2,4])\n",
    "\n",
    "def per_year_update(y):\n",
    "    treated_mask = treated.eq(ee.Number(y)).selfMask()\n",
    "    updated_fm40 = baseline_fm40.updateMask(treated_mask).remap(from_codes,to_codes)\n",
    "    output = updated_fm40.unmask(baseline_fm40)\n",
    "    return output.rename('new_fm40').set('yearInterval',years.indexOf(y).add(1))\n",
    "\n",
    "updated_fm40s = years.map(per_year_update)\n",
    "\n",
    "check_one = ee.Image(ee.List(updated_fm40s).get(0))\n",
    "print(check_one.get('yearInterval').getInfo())"
   ]
  },
  {
   "cell_type": "code",
   "execution_count": 19,
   "metadata": {},
   "outputs": [
    {
     "data": {
      "application/vnd.jupyter.widget-view+json": {
       "model_id": "e050c09d879349309427a581a818fb23",
       "version_major": 2,
       "version_minor": 0
      },
      "text/plain": [
       "Map(center=[37.30828177207165, -120.12148367822783], controls=(WidgetControl(options=['position', 'transparent…"
      ]
     },
     "execution_count": 19,
     "metadata": {},
     "output_type": "execute_result"
    }
   ],
   "source": [
    "import geemap\n",
    "Map = geemap.Map()\n",
    "\n",
    "Map.addLayer(baseline_fm40,{'min':90,'max':205},'baseline')\n",
    "Map.addLayer(treated.eq(4).selfMask(),{min:0,max:1},'treated Y1')\n",
    "Map.addLayer(check_one,{'min':90,'max':205},'updated Y1')\n",
    "\n",
    "Map.centerObject(treated,11)\n",
    "\n",
    "Map"
   ]
  },
  {
   "cell_type": "code",
   "execution_count": 34,
   "metadata": {},
   "outputs": [
    {
     "name": "stdout",
     "output_type": "stream",
     "text": [
      "Export Started for projects/mas-gee/assets/treatment_scenarios/RunID1/FM40_GFrun1\n",
      "Export Started for projects/mas-gee/assets/treatment_scenarios/RunID1/FM40_GFrun2\n",
      "Export Started for projects/mas-gee/assets/treatment_scenarios/RunID1/FM40_GFrun1\n"
     ]
    }
   ],
   "source": [
    "# Export each FM40 in list\n",
    "# California \n",
    "ca = ee.FeatureCollection(\"TIGER/2018/States\").filter(ee.Filter.eq(\"NAME\",\"California\")).first().geometry()\n",
    "# print(ca.get('NAME').getInfo())\n",
    "# Map.addLayer(ca.geometry())\n",
    "# Map\n",
    "for img in list(range(updated_fm40s.size().getInfo())):\n",
    "    output = ee.Image(updated_fm40s.get(img))\n",
    "    year_interval = output.get('yearInterval').getInfo()\n",
    "    desc = f\"UpdateFM40_GFrun{year_interval}\"\n",
    "    output_path = os.path.dirname(treated_path)+\"/\"+f\"FM40_GFrun{year_interval}\"\n",
    "    \n",
    "    ee_treatments.export_img(output,desc,output_path,ca,30,'EPSG:3310')\n"
   ]
  }
 ],
 "metadata": {
  "kernelspec": {
   "display_name": "gee",
   "language": "python",
   "name": "python3"
  },
  "language_info": {
   "codemirror_mode": {
    "name": "ipython",
    "version": 3
   },
   "file_extension": ".py",
   "mimetype": "text/x-python",
   "name": "python",
   "nbconvert_exporter": "python",
   "pygments_lexer": "ipython3",
   "version": "3.8.13"
  },
  "orig_nbformat": 4
 },
 "nbformat": 4,
 "nbformat_minor": 2
}
