{
 "cells": [
  {
   "attachments": {},
   "cell_type": "markdown",
   "metadata": {},
   "source": [
    "Once your ee.Image is exported to GEE, run this to vectorize the ee.Image and export it as shapefile to Google Drive. \n",
    "\n",
    "FCAT format requires shapefile with unique codes identifying the treatment timing"
   ]
  },
  {
   "cell_type": "code",
   "execution_count": 6,
   "metadata": {},
   "outputs": [
    {
     "name": "stdout",
     "output_type": "stream",
     "text": [
      "The autoreload extension is already loaded. To reload it, use:\n",
      "  %reload_ext autoreload\n"
     ]
    }
   ],
   "source": [
    "import ee\n",
    "import os\n",
    "from src.utils.yml_params import get_export_params\n",
    "yml_file = os.path.join(os.getcwd(),'config.yml')\n",
    "CRS,EXPORT_SCALE = get_export_params(yml_file)\n",
    "\n",
    "ee.Initialize(project='pyregence-ee')\n",
    "%load_ext autoreload\n",
    "%autoreload 2\n",
    "\n",
    "# In development phase\n",
    "tag = 'mas-development'\n",
    "ee.data.setWorkloadTag(tag)"
   ]
  },
  {
   "attachments": {},
   "cell_type": "markdown",
   "metadata": {},
   "source": [
    "INPUT YOUR EE TREATMENT ASSET PATH BELOW"
   ]
  },
  {
   "cell_type": "code",
   "execution_count": 7,
   "metadata": {},
   "outputs": [],
   "source": [
    "ee_treat_img_path = \"projects/pyregence-ee/assets/mas/treatment_scenarios/RunID10/NC_WUI_500k_20230621\""
   ]
  },
  {
   "cell_type": "code",
   "execution_count": 13,
   "metadata": {},
   "outputs": [
    {
     "name": "stdout",
     "output_type": "stream",
     "text": [
      "Output Shapefile Path: RunID10_TreatmentsSHP_NC_WUI_500k_20230621\n",
      "Vectorize_RunID10_TreatmentsSHP_NC_WUI_500k_20230621\n"
     ]
    }
   ],
   "source": [
    "run_id = os.path.dirname(ee_treat_img_path).split('/')[-1]\n",
    "output_shapefile = f'{run_id}_TreatmentsSHP_{os.path.basename(ee_treat_img_path)}'\n",
    "print(f'Output Shapefile Path: {output_shapefile}')\n",
    "desc = f'Vectorize_{os.path.basename(output_shapefile)}'\n",
    "print(desc)\n",
    "\n",
    "img = ee.Image(ee_treat_img_path)\n",
    "folder = 'MAS_FCATtreatments'\n",
    "\n",
    "# vectorize the image\n",
    "vectors = ee.Image(img).reduceToVectors(**{\n",
    "    # 'reducer':ee.Reducer.firstNonNull(), \n",
    "    # geometry, \n",
    "    'scale':30, \n",
    "    'geometryType':'polygon', \n",
    "    'eightConnected':True, \n",
    "    'labelProperty':'tx_code', # FCAT required field name\n",
    "    'crs':CRS, \n",
    "    # crsTransform, \n",
    "    'bestEffort':True, \n",
    "    'maxPixels':1e13, \n",
    "    'tileScale':4, \n",
    "    'geometryInNativeProjection':True})\n",
    "\n",
    "# other FCAT required fields \n",
    "vectors = vectors.map(lambda f: f.set('kcp_exists',1,'tx_type','dummy_value'))\n",
    "# print(vectors.first().getInfo())\n",
    "\n",
    "# export shapefile to Drive\n",
    "task = ee.batch.Export.table.toDrive(**{\n",
    "    'collection':vectors, \n",
    "    'description':desc, \n",
    "    'folder':folder, \n",
    "    'fileNamePrefix':output_shapefile, \n",
    "    'fileFormat':'SHP', \n",
    "    # 'selectors', \n",
    "    # 'maxVertices'\n",
    "    })\n",
    "\n",
    "task.start()\n",
    "print(f'Export started for {folder}/{output_shapefile}')"
   ]
  }
 ],
 "metadata": {
  "kernelspec": {
   "display_name": "gee",
   "language": "python",
   "name": "python3"
  },
  "language_info": {
   "codemirror_mode": {
    "name": "ipython",
    "version": 3
   },
   "file_extension": ".py",
   "mimetype": "text/x-python",
   "name": "python",
   "nbconvert_exporter": "python",
   "pygments_lexer": "ipython3",
   "version": "3.8.13"
  },
  "orig_nbformat": 4
 },
 "nbformat": 4,
 "nbformat_minor": 2
}
