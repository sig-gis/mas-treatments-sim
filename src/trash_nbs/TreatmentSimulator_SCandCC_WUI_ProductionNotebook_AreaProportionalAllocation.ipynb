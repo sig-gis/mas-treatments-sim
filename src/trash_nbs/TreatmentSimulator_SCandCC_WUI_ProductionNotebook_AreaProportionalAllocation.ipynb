{
 "cells": [
  {
   "cell_type": "code",
   "execution_count": 1,
   "id": "c5e31164-d11e-45d6-98b4-b641623b8ddc",
   "metadata": {},
   "outputs": [],
   "source": [
    "import ee\n",
    "import os\n",
    "import math\n",
    "from datetime import datetime\n",
    "from src.utils import ee_treatments\n",
    "from src.utils import runs\n",
    "from src.utils.check_exists import check_exists\n",
    "from src.utils.yml_params import get_export_params\n",
    "yml_file = os.path.join(os.getcwd(),'config.yml')\n",
    "CRS,EXPORT_SCALE = get_export_params(yml_file)\n",
    "\n",
    "ee.Initialize(project='mas-gee')\n",
    "%load_ext autoreload\n",
    "%autoreload 2\n",
    "\n",
    "# In development phase\n",
    "tag = 'ee_treatments_production'\n",
    "ee.data.setWorkloadTag(tag)"
   ]
  },
  {
   "attachments": {},
   "cell_type": "markdown",
   "id": "2bc904bc-7607-4e66-a384-2fedde5094a8",
   "metadata": {},
   "source": [
    "## Million Acres Strategy - Treatment Simulator\n",
    "#### Creates Randomized Treatment Scenario Landscapes - exports as ee.Images\n",
    "#### This Notebook is for Run IDs: \n",
    "|RunID | CA_REGION | INTENSITY_ID | PRIORITY |\n",
    "|------|-----------|--------------|----------|\n",
    "| 19  | South Coast | 500k | WUI |\n",
    "| 22  | South Coast | 1m   | WUI |\n",
    "| 25  | South Coast | 2m   | WUI |\n",
    "| 28 | Central Coast   | 500k | WUI |\n",
    "| 31 | Central Coast   | 1m   | WUI |\n",
    "| 34 | Central Coast   | 2m   | WUI |\n"
   ]
  },
  {
   "attachments": {},
   "cell_type": "markdown",
   "id": "ba63a821",
   "metadata": {},
   "source": [
    "Run Settings: Change `RUNID` below to setup the analysis and output file names"
   ]
  },
  {
   "cell_type": "code",
   "execution_count": 2,
   "id": "e8b92d55",
   "metadata": {},
   "outputs": [],
   "source": [
    "RUNID = 'RunID22' "
   ]
  },
  {
   "attachments": {},
   "cell_type": "markdown",
   "id": "b8cd85d3",
   "metadata": {},
   "source": [
    "Auto-calculate the necessary information for the Scenario\n",
    "\n",
    "Double-Check the Output Calcs are Correct against the [Spreadsheet](https://docs.google.com/spreadsheets/d/1Gnl6SO5kOkj4Ne1JdXzW4bp03824Zb1Cp_2HVuCY3Lk/edit#gid=0\n",
    ")"
   ]
  },
  {
   "cell_type": "code",
   "execution_count": 3,
   "id": "b8dd49b6",
   "metadata": {},
   "outputs": [
    {
     "name": "stdout",
     "output_type": "stream",
     "text": [
      "Output EE Image Path: projects/mas-gee/assets/treatment_scenarios/RunID19/SC_WUI_500k_20230922_test\n",
      "TREATMENT SIZE (m^2): 404685.64224\n",
      "TREATMENT SIZE (Ac): 100\n",
      "Area to Treat Per Year (m^2): 323748513.792\n",
      "Area to Treat Per Year (Ac): 80000\n",
      "Area to treat per 5-year interval (m^2): 1618742569\n",
      "Area to treat per 5-year interval (Ac): 399999\n"
     ]
    }
   ],
   "source": [
    "# string identifiers for output file\n",
    "CA_REGION = runs.key[RUNID]['RegionID'] # NC = North Coast; SN = Sierra Nevada\n",
    "INTENSITY_ID = runs.key[RUNID]['IntensityID'] \n",
    "PRIORITY = runs.key[RUNID]['PriorityID'] \n",
    "\n",
    "# construct output path\n",
    "today_string = datetime.utcnow().strftime(\"%Y-%m-%d\").replace(\"-\", \"\")\n",
    "output_image = f\"projects/mas-gee/assets/treatment_scenarios/{RUNID}/{CA_REGION}_{PRIORITY}_{INTENSITY_ID}_{today_string}_test\"\n",
    "print(f'Output EE Image Path: {output_image}')\n",
    "\n",
    "# treatment size is static and set in runs.py\n",
    "treatment_size_ac = runs.treatment_size_ac \n",
    "TREATMENT_SIZE = runs.treatment_size_sqm \n",
    "print('TREATMENT SIZE (m^2):',TREATMENT_SIZE)\n",
    "print('TREATMENT SIZE (Ac):',treatment_size_ac)\n",
    "RADIUS = math.sqrt(TREATMENT_SIZE)/2  # in meters, rough square radius is A = (side/2) solve for side (side = sqrt(A) )\n",
    "\n",
    "sqm_to_ac_x = 0.000247105\n",
    "\n",
    "# pull prescribed treatment area in both units, we use sqm for analysis and acreage for reporting\n",
    "total_treated_area = runs.key[RUNID]['sqmPerYear']\n",
    "print(f\"Area to Treat Per Year (m^2): {total_treated_area}\")\n",
    "total_treated_area_ac = runs.key[RUNID]['acreagePerYear']\n",
    "print(f\"Area to Treat Per Year (Ac): {total_treated_area_ac}\")\n",
    "\n",
    "# we run the treatment generator as 5-year interval outputs (4 run intervals covering the 20-year period)\n",
    "# so we actually need to total_treated_area*5 to the ee_treatments() generator\n",
    "area_per_iteration = int(round(total_treated_area*5))\n",
    "print(f'Area to treat per 5-year interval (m^2): {area_per_iteration}')\n",
    "area_per_iteration_ac = int(round(area_per_iteration*sqm_to_ac_x))\n",
    "print(f'Area to treat per 5-year interval (Ac): {area_per_iteration_ac}')"
   ]
  },
  {
   "attachments": {},
   "cell_type": "markdown",
   "id": "d06f1c00-707f-4c52-a9ea-1c9df7a9e419",
   "metadata": {},
   "source": [
    "Input Files"
   ]
  },
  {
   "cell_type": "code",
   "execution_count": 8,
   "id": "6a94304a-b6c8-4a6b-b1b5-a2e4e504ae7a",
   "metadata": {},
   "outputs": [
    {
     "name": "stdout",
     "output_type": "stream",
     "text": [
      "['constant']\n",
      "['remapped']\n"
     ]
    }
   ],
   "source": [
    "# Sierra Nevada(SN), South Coast(SC), Central Coast(CC), North Coast(NC)\n",
    "all_hucs = ee.FeatureCollection(\"projects/mas-gee/assets/TxHucScCc\")\n",
    "# property names differ between Wui, BP, and RFFc\n",
    "propSwName = 'WpropSw'\n",
    "propGdName = 'WpropGd'\n",
    "\n",
    "# Treatable Vegetation Constraint Layer\n",
    "# For reference Herb (1), Shrub (2), Hardwood (3), softwood (4), non treatable veg is masked\n",
    "treatable_veg_layer = ee.Image(\"projects/mas-gee/assets/HerbShrubHardSoftImage\")\n",
    "# Softwoods\n",
    "veg_constraint_Sw = treatable_veg_layer.eq(4) # only considering softwood\n",
    "# Road Grids\n",
    "veg_constraint_Gd = ee.Image(runs.key[RUNID]['RoadGrids'])\n",
    "\n",
    "# print(veg_constraint_Gd.bandNames().getInfo())\n",
    "# print(veg_constraint_Sw.bandNames().getInfo())\n"
   ]
  },
  {
   "cell_type": "markdown",
   "id": "c071354e",
   "metadata": {},
   "source": [
    "Need to proportionally allocate treated area between softwood veg and road-adjacent treatment cells\n",
    "\n",
    "There is a different softwood/road grid area proportion split per priority scheme (WUI,BP,RFFC) and percentile Group within those\n",
    "\n",
    "It is likely going to be easier to pull that specific pair of proportions out ahead of time from the HUC FC or hard-code it here..."
   ]
  },
  {
   "attachments": {},
   "cell_type": "markdown",
   "id": "6fb01d8a",
   "metadata": {},
   "source": [
    "Pay attention to `overshoot` value passed in `ee_treatments()` call. It is your dial. "
   ]
  },
  {
   "cell_type": "code",
   "execution_count": 22,
   "id": "fabc7615",
   "metadata": {},
   "outputs": [],
   "source": [
    "PT_OVERSHOOT_Sw = 2.4\n",
    "PT_OVERSHOOT_Gd = 2.2"
   ]
  },
  {
   "attachments": {},
   "cell_type": "markdown",
   "id": "88dbf1b5",
   "metadata": {},
   "source": [
    "WUI Prioritization. \n",
    "\n",
    "see [Treatment Allocation Runs sheet](https://docs.google.com/spreadsheets/d/1Gnl6SO5kOkj4Ne1JdXzW4bp03824Zb1Cp_2HVuCY3Lk/edit#gid=0)\n",
    "\n",
    "* 1-25th percentile HUC group in Year Interval 1 and 4\n",
    "* 25th-50th percentile HUC group in Year Interval 2\n",
    "* 50-75th percentile HUC group in Year Interval 3."
   ]
  },
  {
   "cell_type": "code",
   "execution_count": 65,
   "id": "8318bc6b",
   "metadata": {},
   "outputs": [
    {
     "name": "stdout",
     "output_type": "stream",
     "text": [
      "{'type': 'Image', 'bands': [{'id': 'remapped', 'data_type': {'type': 'PixelType', 'precision': 'int', 'min': 0, 'max': 1}, 'dimensions': [915, 1060], 'crs': 'EPSG:3310', 'crs_transform': [1000.0000000000001, 0, -373980, 0, -1000.0000000000001, 455280]}]}\n",
      "{'type': 'Image', 'bands': [{'id': 'constant', 'data_type': {'type': 'PixelType', 'precision': 'int', 'min': 0, 'max': 255}, 'dimensions': [445, 311], 'crs': 'EPSG:3310', 'crs_transform': [1000, 0, -62000, 0, -1000, -295000]}], 'version': 1695396870268674, 'id': 'projects/mas-gee/assets/scTxGridRoadImage', 'properties': {'system:footprint': {'type': 'LinearRing', 'coordinates': [[-120.68828933725352, 35.35649291861447], [-120.68836742110692, 35.355357707099216], [-120.6644671044239, 32.560310297632476], [-120.66009797592056, 32.55619276296378], [-120.65638160931445, 32.5516427749698], [-120.65461943623058, 32.55136977354716], [-118.29411750191537, 32.54024672235406], [-115.93661433098698, 32.47923912369448], [-115.93152519972557, 32.48271768126019], [-115.92595684465843, 32.485627483103684], [-115.92554854992024, 32.48709619416676], [-115.7789980164034, 35.28052157399924], [-115.78325091248381, 35.28482781648004], [-115.78681609683332, 35.289531799992254], [-115.78860648044234, 35.28987671275537], [-120.6774001112067, 35.36442084302906], [-120.68246107368331, 35.36073655760324], [-120.68804236384608, 35.35759174092047], [-120.68828933725352, 35.35649291861447]]}, 'system:asset_size': 19554}}\n"
     ]
    }
   ],
   "source": [
    "year_interval_ids = ee.List(['Y1to5',\n",
    "                             'Y6to10',\n",
    "                             'Y11to15',\n",
    "                             'Y16-20'\n",
    "                             ]\n",
    "                             )\n",
    "ranked_huc_filters = [ee.Filter.eq('TxWPrct', 25),\n",
    "               ee.Filter.eq('TxWPrct', 50),\n",
    "               ee.Filter.eq('TxWPrct', 75),\n",
    "               ee.Filter.eq('TxWPrct', 25)\n",
    "               ]\n",
    "# zipping ee.Lists is a good way to parallelize complicated things in GEE with .map()\n",
    "zipped = year_interval_ids.zip(ranked_huc_filters)\n",
    "# print(zipped.getInfo())\n",
    "\n",
    "# even more info needs to be passed into the map so we'll create n sub-lists\n",
    "trt_type_Sw = ee.List.repeat(propSwName,4)\n",
    "trt_type_Gd = ee.List.repeat(propGdName,4)\n",
    "pt_overshoots_Sw = ee.List.repeat(PT_OVERSHOOT_Sw,4)\n",
    "pt_overshoots_Gd = ee.List.repeat(PT_OVERSHOOT_Gd,4)\n",
    "n_items = ee.List.sequence(0,3)\n",
    "\n",
    "def sub_lists_Sw(i):\n",
    "    # at each index position return all three elements from the same position\n",
    "    yid = ee.List(year_interval_ids).get(i)\n",
    "    filt = ee.List(ranked_huc_filters).get(i)\n",
    "    trt = ee.List(trt_type_Sw).get(i)\n",
    "    pto = ee.List(pt_overshoots_Sw).get(i)\n",
    "    veg_constraint_layer = veg_constraint_Sw\n",
    "    return ee.List([yid,filt,trt,pto,veg_constraint_layer])\n",
    "\n",
    "def sub_lists_Gd(i):\n",
    "    # at each index position return all three elements from the same position\n",
    "    yid = ee.List(year_interval_ids).get(i)\n",
    "    filt = ee.List(ranked_huc_filters).get(i)\n",
    "    trt = ee.List(trt_type_Gd).get(i)\n",
    "    pto = ee.List(pt_overshoots_Gd).get(i)\n",
    "    veg_constraint_layer = veg_constraint_Gd\n",
    "    return ee.List([yid,filt,trt,pto,veg_constraint_layer])\n",
    "\n",
    "SW_PARAMS_LIST = n_items.map(sub_lists_Sw)\n",
    "GD_PARAMS_LIST = n_items.map(sub_lists_Gd)\n",
    "# print(ee.List(ee.List(SW_PARAMS_LIST).get(0)).get(4).getInfo())\n",
    "# print(ee.List(ee.List(GD_PARAMS_LIST).get(0)).get(4).getInfo())\n",
    "\n"
   ]
  },
  {
   "cell_type": "code",
   "execution_count": 66,
   "id": "1956e6fd",
   "metadata": {},
   "outputs": [],
   "source": [
    "def treat_by_year_huc(l):\n",
    "    \"\"\"\n",
    "    this is to be map()ed across zipped (year intervals and percentile huc filters) to parallelize use of ee_treatments()\n",
    "        result is one ee.Image of treatment areas per yearInterval/HUC Group element in zipped     \n",
    "    \"\"\"\n",
    "    \n",
    "    # pulling parameters for the run out of the given sub-list (either SW_PARAMS_LIST or GD_PARAMS_LIST)\n",
    "    zipped_list = ee.List(l)\n",
    "    ranks_filter = ee.Filter(zipped_list.get(1))\n",
    "    trt_prop_name = ee.String(zipped_list.get(2))\n",
    "    pt_overshoot = ee.Number(zipped_list.get(3))\n",
    "    veg_constraint = zipped_list.get(4)\n",
    "    # which PARAMS_LIST are we in? \n",
    "    PARAMS_LIST = ee.Algorithms.If(ee.String(trt_prop_name).match(propSwName),SW_PARAMS_LIST,GD_PARAMS_LIST)\n",
    "    # pixel value of resulting image represents iteration number (e.g. 1 = years 1-5, e = years 6-10,etc)\n",
    "    pixel_value_iteration = (ee.Number(\n",
    "       ee.List(PARAMS_LIST) ## <---- MUST CHANGE THIS UPON RUNNING THIS CELL - couldn't figure out how to make this change\n",
    "       .indexOf(l))\n",
    "       .add(1))\n",
    "\n",
    "    # Get HUC group\n",
    "    huc_group = (all_hucs.filter(ee.Filter.eq('RRK_Rgn', runs.key[RUNID]['Region Filter Name']))\n",
    "                .filter(ranks_filter)\n",
    "                # .limit(2) # for testing, reduce compute for development\n",
    "                )\n",
    "    \n",
    "    # Additional CC/SC steps ---------\n",
    "    # we are running ee_treatments() twice and returning their individual results. \n",
    "    # The three inputs that differ per run are:\n",
    "    # 1. the veg constraint layer (Softwoods mask or Road Grids mask)\n",
    "    # 2. prescription area (determined individually for Softwoods versus Road Grids by area proportion per HUC percentile Group\n",
    "    # 3. and PT_OVERSHOOT value for each run\n",
    "    \n",
    "    # area_per_iteration is the total prescribed area we're placing\n",
    "    # area_per_iteration needs to be proportionally allocated to softwood area and road grid areas\n",
    "    propWeight = ee.Number(ee.FeatureCollection(huc_group).first().get(trt_prop_name))\n",
    "    # propSw = ee.Number(ee.FeatureCollection(huc_group).first().get(propSwName))\n",
    "    # propGd = ee.Number(ee.FeatureCollection(huc_group).first().get(propGdName))\n",
    "    \n",
    "    prescription_area = ee.Number(area_per_iteration).multiply(propWeight)\n",
    "    # area_per_iteration_Sw = ee.Number(area_per_iteration).multiply(propSw) # this is passed to ee_treatments()    \n",
    "    # area_per_iteration_Gd = ee.Number(area_per_iteration).multiply(propSw)\n",
    "    \n",
    "    \n",
    "    # this is for reshuffling the random treatment placements, may be useful for re-treatments of the same huc groups\n",
    "    # we would pass a unique number to 'seed' arg in ee_treatments() each time \n",
    "    # if you don't need to reshuffle the random seed each run, don't define 'seed' arg and function will use its default seed every time\n",
    "    seeds = ee.List([10,20,30,40])\n",
    "    seed = ee.Number(ee.List(seeds).get(ee.List(zipped).indexOf(l)))\n",
    "    \n",
    "    treated_area_img, properties = ee_treatments.ee_treatments(hucs=huc_group,\n",
    "                                                  prescription=prescription_area, # area_per_iteration_testing , reduce compute for testing\n",
    "                                                  unit_size=TREATMENT_SIZE,\n",
    "                                                  radius=RADIUS,\n",
    "                                                  pixel_value=pixel_value_iteration,\n",
    "                                                  constraint_layer=veg_constraint,\n",
    "                                                  # seed=seed # passing seed defined as diff number for every ee_treatment() run to randomize re-treatment groups\n",
    "                                                  ptOvershoot=pt_overshoot # we dial this in per scenario to get close to a 1:1 of Needed:Generated\n",
    "                                                  )\n",
    "    treated_area_img = treated_area_img.set('trt_type',trt_prop_name)\n",
    "    \n",
    "    return treated_area_img, properties\n",
    "\n",
    "def remap_keys(d):\n",
    "  \"\"\"\n",
    "  solves a QA property problem for ee_treatments(): we have duplicate key names in the properties dict \n",
    "  when multiple ee_treatments() results are combined together.\n",
    "  So we create a unique identifier from 'yearInterval' and remove 'yearInterval' as a property itself.\n",
    "  example: 'PropertyName': PropertyValue becomes 'yearInterval1PropertyName': PropertyValue\n",
    "  \"\"\"\n",
    "  d = ee.Dictionary(d)\n",
    "  yearInterval = (ee.String('yearInterval')\n",
    "  .cat(ee.Number(ee.Dictionary(d).get('yearInterval')).format()))\n",
    "  keys = d.keys().slice(0,7) # depends on yearInterval property being in index position 7 of property list returned by ee_treatments()\n",
    "  values = d.values().slice(0,7)\n",
    "  remapped_keys = keys.map(lambda s: ee.String(yearInterval).cat(s))\n",
    "  return ee.Dictionary.fromLists(remapped_keys,values)\n",
    "\n",
    "def combine_dicts(d):\n",
    "   d = ee.Dictionary(d)\n",
    "   return d.keys().zip(d.values())"
   ]
  },
  {
   "attachments": {},
   "cell_type": "markdown",
   "id": "f0576d6f-47ed-445e-8b68-c94d8c382905",
   "metadata": {},
   "source": [
    "Create treated area ee.Images for every year interval on its assigned group of HUCs"
   ]
  },
  {
   "cell_type": "code",
   "execution_count": 68,
   "id": "df7c7132",
   "metadata": {},
   "outputs": [
    {
     "name": "stdout",
     "output_type": "stream",
     "text": [
      "Export Started for projects/mas-gee/assets/treatment_scenarios/RunID19/SC_WUI_500k_20230922_testGd\n"
     ]
    }
   ],
   "source": [
    "# We use .map() to parallelize computation of treatment area images across the four 5-year intervals, \n",
    "# treating equal amount of area within each percentile ranking list, returning 4 treatment ee.Images, \n",
    "# then mosaicking them into one ee.Image for export\n",
    "\n",
    "# returns ee.List((ee.Image1,ee.Dictionary1),(ee.Image2,ee.Dictionary2),(etc))\n",
    "results_Sw = ee.List(SW_PARAMS_LIST).map(treat_by_year_huc)\n",
    "results_Gd = ee.List(GD_PARAMS_LIST).map(treat_by_year_huc)\n",
    "# print(results_Sw.getInfo())\n",
    "\n",
    "# parse the images and properties out of the (image,properties) tuples by .map()ing over results\n",
    "images_Sw = results_Sw.map(lambda t: ee.List(t).get(0)) \n",
    "properties_Sw = results_Sw.map(lambda t: ee.List(t).get(1))\n",
    "\n",
    "images_Gd = results_Gd.map(lambda t: ee.List(t).get(0)) \n",
    "properties_Gd = results_Gd.map(lambda t: ee.List(t).get(1))\n",
    "\n",
    "# print(images_Sw.getInfo())\n",
    "# print(images_Gd.getInfo())\n",
    "# print(properties_Sw.getInfo())\n",
    "# print(properties_Gd.getInfo())\n",
    "\n",
    "# remap the keys of the properties so they are unique per ee_treatments() image run, then combine into one properties dict\n",
    "all_properties_Sw = properties_Sw.map(remap_keys).map(combine_dicts).flatten()\n",
    "all_properties_Gd = properties_Gd.map(remap_keys).map(combine_dicts).flatten()\n",
    "# print(all_properties_Sw.getInfo())\n",
    "\n",
    "# mosaic all ee_treatment() images together and set the fixed properties \n",
    "output_Sw = ee.Image(ee.ImageCollection.fromImages(images_Sw).mosaic()).set(all_properties_Sw)\n",
    "output_Gd = ee.Image(ee.ImageCollection.fromImages(images_Gd).mosaic()).set(all_properties_Gd)\n",
    "\n",
    "# export\n",
    "desc = f'{RUNID}_{os.path.basename(output_image)}'\n",
    "folder = os.path.dirname(output_image)\n",
    "if check_exists(folder):\n",
    "    print(f'making new folder: {folder}')\n",
    "    os.popen(f'earthengine create folder {folder}').read()\n",
    "    \n",
    "# ee_treatments.export_img(output_Sw,desc+'Sw',output_image+'Sw',all_hucs.geometry(),30,'EPSG:5070')\n",
    "ee_treatments.export_img(output_Gd,desc+'Gd',output_image+'Gd',all_hucs.geometry(),30,'EPSG:5070')\n"
   ]
  },
  {
   "cell_type": "code",
   "execution_count": 16,
   "id": "a2a9bc91",
   "metadata": {},
   "outputs": [
    {
     "ename": "AttributeError",
     "evalue": "'ApiFunction' object has no attribute 'name'",
     "output_type": "error",
     "traceback": [
      "\u001b[1;31m---------------------------------------------------------------------------\u001b[0m",
      "\u001b[1;31mAttributeError\u001b[0m                            Traceback (most recent call last)",
      "\u001b[1;32mc:\\mas-treatments-sim\\TreatmentSimulator_SCandCC_WUI_ProductionNotebook.ipynb Cell 16\u001b[0m in \u001b[0;36m<cell line: 6>\u001b[1;34m()\u001b[0m\n\u001b[0;32m      <a href='vscode-notebook-cell:/c%3A/mas-treatments-sim/TreatmentSimulator_SCandCC_WUI_ProductionNotebook.ipynb#X21sZmlsZQ%3D%3D?line=0'>1</a>\u001b[0m \u001b[39m# We use .map() to parallelize computation of treatment area images across the four 5-year intervals, \u001b[39;00m\n\u001b[0;32m      <a href='vscode-notebook-cell:/c%3A/mas-treatments-sim/TreatmentSimulator_SCandCC_WUI_ProductionNotebook.ipynb#X21sZmlsZQ%3D%3D?line=1'>2</a>\u001b[0m \u001b[39m# treating equal amount of area within each percentile ranking list, returning 4 treatment ee.Images, \u001b[39;00m\n\u001b[0;32m      <a href='vscode-notebook-cell:/c%3A/mas-treatments-sim/TreatmentSimulator_SCandCC_WUI_ProductionNotebook.ipynb#X21sZmlsZQ%3D%3D?line=2'>3</a>\u001b[0m \u001b[39m# then mosaicking them into one ee.Image for export\u001b[39;00m\n\u001b[0;32m      <a href='vscode-notebook-cell:/c%3A/mas-treatments-sim/TreatmentSimulator_SCandCC_WUI_ProductionNotebook.ipynb#X21sZmlsZQ%3D%3D?line=3'>4</a>\u001b[0m \n\u001b[0;32m      <a href='vscode-notebook-cell:/c%3A/mas-treatments-sim/TreatmentSimulator_SCandCC_WUI_ProductionNotebook.ipynb#X21sZmlsZQ%3D%3D?line=4'>5</a>\u001b[0m \u001b[39m# returns ee.List((ee.Image1,ee.Dictionary1),(ee.Image2,ee.Dictionary2),(etc))\u001b[39;00m\n\u001b[1;32m----> <a href='vscode-notebook-cell:/c%3A/mas-treatments-sim/TreatmentSimulator_SCandCC_WUI_ProductionNotebook.ipynb#X21sZmlsZQ%3D%3D?line=5'>6</a>\u001b[0m results \u001b[39m=\u001b[39m ee\u001b[39m.\u001b[39;49mList(zipped)\u001b[39m.\u001b[39;49mmap(treat_by_year_huc)\n\u001b[0;32m      <a href='vscode-notebook-cell:/c%3A/mas-treatments-sim/TreatmentSimulator_SCandCC_WUI_ProductionNotebook.ipynb#X21sZmlsZQ%3D%3D?line=6'>7</a>\u001b[0m \u001b[39m# print(results.getInfo())\u001b[39;00m\n\u001b[0;32m      <a href='vscode-notebook-cell:/c%3A/mas-treatments-sim/TreatmentSimulator_SCandCC_WUI_ProductionNotebook.ipynb#X21sZmlsZQ%3D%3D?line=7'>8</a>\u001b[0m \n\u001b[0;32m      <a href='vscode-notebook-cell:/c%3A/mas-treatments-sim/TreatmentSimulator_SCandCC_WUI_ProductionNotebook.ipynb#X21sZmlsZQ%3D%3D?line=8'>9</a>\u001b[0m \u001b[39m# parse the images and properties out of the (image,properties) tuples by .map()ing over results\u001b[39;00m\n\u001b[0;32m     <a href='vscode-notebook-cell:/c%3A/mas-treatments-sim/TreatmentSimulator_SCandCC_WUI_ProductionNotebook.ipynb#X21sZmlsZQ%3D%3D?line=9'>10</a>\u001b[0m images \u001b[39m=\u001b[39m results\u001b[39m.\u001b[39mmap(\u001b[39mlambda\u001b[39;00m t: ee\u001b[39m.\u001b[39mList(t)\u001b[39m.\u001b[39mget(\u001b[39m0\u001b[39m)) \n",
      "File \u001b[1;32mc:\\Users\\kyle\\anaconda3\\envs\\gee\\lib\\site-packages\\ee\\apifunction.py:205\u001b[0m, in \u001b[0;36mApiFunction.importApi.<locals>.MakeBoundFunction.<locals>.<lambda>\u001b[1;34m(*args, **kwargs)\u001b[0m\n\u001b[0;32m    203\u001b[0m \u001b[39mdef\u001b[39;00m \u001b[39mMakeBoundFunction\u001b[39m(func):\n\u001b[0;32m    204\u001b[0m   \u001b[39m# We need the lambda to capture \"func\" from the enclosing scope.\u001b[39;00m\n\u001b[1;32m--> 205\u001b[0m   \u001b[39mreturn\u001b[39;00m \u001b[39mlambda\u001b[39;00m \u001b[39m*\u001b[39margs, \u001b[39m*\u001b[39m\u001b[39m*\u001b[39mkwargs: func\u001b[39m.\u001b[39;49mcall(\u001b[39m*\u001b[39;49margs, \u001b[39m*\u001b[39;49m\u001b[39m*\u001b[39;49mkwargs)\n",
      "File \u001b[1;32mc:\\Users\\kyle\\anaconda3\\envs\\gee\\lib\\site-packages\\ee\\function.py:67\u001b[0m, in \u001b[0;36mFunction.call\u001b[1;34m(self, *args, **kwargs)\u001b[0m\n\u001b[0;32m     55\u001b[0m \u001b[39mdef\u001b[39;00m \u001b[39mcall\u001b[39m(\u001b[39mself\u001b[39m, \u001b[39m*\u001b[39margs, \u001b[39m*\u001b[39m\u001b[39m*\u001b[39mkwargs):\n\u001b[0;32m     56\u001b[0m   \u001b[39m\"\"\"Calls the function with the given positional and keyword arguments.\u001b[39;00m\n\u001b[0;32m     57\u001b[0m \n\u001b[0;32m     58\u001b[0m \u001b[39m  Args:\u001b[39;00m\n\u001b[1;32m   (...)\u001b[0m\n\u001b[0;32m     65\u001b[0m \u001b[39m    to that type.\u001b[39;00m\n\u001b[0;32m     66\u001b[0m \u001b[39m  \"\"\"\u001b[39;00m\n\u001b[1;32m---> 67\u001b[0m   \u001b[39mreturn\u001b[39;00m \u001b[39mself\u001b[39;49m\u001b[39m.\u001b[39;49mapply(\u001b[39mself\u001b[39;49m\u001b[39m.\u001b[39;49mnameArgs(args, kwargs))\n",
      "File \u001b[1;32mc:\\Users\\kyle\\anaconda3\\envs\\gee\\lib\\site-packages\\ee\\function.py:80\u001b[0m, in \u001b[0;36mFunction.apply\u001b[1;34m(self, named_args)\u001b[0m\n\u001b[0;32m     69\u001b[0m \u001b[39mdef\u001b[39;00m \u001b[39mapply\u001b[39m(\u001b[39mself\u001b[39m, named_args):\n\u001b[0;32m     70\u001b[0m   \u001b[39m\"\"\"Calls the function with a dictionary of named arguments.\u001b[39;00m\n\u001b[0;32m     71\u001b[0m \n\u001b[0;32m     72\u001b[0m \u001b[39m  Args:\u001b[39;00m\n\u001b[1;32m   (...)\u001b[0m\n\u001b[0;32m     78\u001b[0m \u001b[39m    to that type.\u001b[39;00m\n\u001b[0;32m     79\u001b[0m \u001b[39m  \"\"\"\u001b[39;00m\n\u001b[1;32m---> 80\u001b[0m   result \u001b[39m=\u001b[39m computedobject\u001b[39m.\u001b[39mComputedObject(\u001b[39mself\u001b[39m, \u001b[39mself\u001b[39;49m\u001b[39m.\u001b[39;49mpromoteArgs(named_args))\n\u001b[0;32m     81\u001b[0m   \u001b[39mreturn\u001b[39;00m Function\u001b[39m.\u001b[39m_promoter(result, \u001b[39mself\u001b[39m\u001b[39m.\u001b[39mgetReturnType())\n",
      "File \u001b[1;32mc:\\Users\\kyle\\anaconda3\\envs\\gee\\lib\\site-packages\\ee\\function.py:107\u001b[0m, in \u001b[0;36mFunction.promoteArgs\u001b[1;34m(self, args)\u001b[0m\n\u001b[0;32m    105\u001b[0m name \u001b[39m=\u001b[39m spec[\u001b[39m'\u001b[39m\u001b[39mname\u001b[39m\u001b[39m'\u001b[39m]\n\u001b[0;32m    106\u001b[0m \u001b[39mif\u001b[39;00m name \u001b[39min\u001b[39;00m args:\n\u001b[1;32m--> 107\u001b[0m   promoted_args[name] \u001b[39m=\u001b[39m Function\u001b[39m.\u001b[39;49m_promoter(args[name], spec[\u001b[39m'\u001b[39;49m\u001b[39mtype\u001b[39;49m\u001b[39m'\u001b[39;49m])\n\u001b[0;32m    108\u001b[0m \u001b[39melif\u001b[39;00m \u001b[39mnot\u001b[39;00m spec\u001b[39m.\u001b[39mget(\u001b[39m'\u001b[39m\u001b[39moptional\u001b[39m\u001b[39m'\u001b[39m):\n\u001b[0;32m    109\u001b[0m   \u001b[39mraise\u001b[39;00m ee_exception\u001b[39m.\u001b[39mEEException(\n\u001b[0;32m    110\u001b[0m       \u001b[39m'\u001b[39m\u001b[39mRequired argument (\u001b[39m\u001b[39m%s\u001b[39;00m\u001b[39m) missing to function: \u001b[39m\u001b[39m%s\u001b[39;00m\u001b[39m'\u001b[39m\n\u001b[0;32m    111\u001b[0m       \u001b[39m%\u001b[39m (name, \u001b[39mself\u001b[39m\u001b[39m.\u001b[39mname))\n",
      "File \u001b[1;32mc:\\Users\\kyle\\anaconda3\\envs\\gee\\lib\\site-packages\\ee\\__init__.py:261\u001b[0m, in \u001b[0;36m_Promote\u001b[1;34m(arg, klass)\u001b[0m\n\u001b[0;32m    259\u001b[0m   \u001b[39melse\u001b[39;00m:\n\u001b[0;32m    260\u001b[0m     args_count \u001b[39m=\u001b[39m \u001b[39mlen\u001b[39m(inspect\u001b[39m.\u001b[39mgetfullargspec(arg)\u001b[39m.\u001b[39margs)\n\u001b[1;32m--> 261\u001b[0m   \u001b[39mreturn\u001b[39;00m CustomFunction\u001b[39m.\u001b[39;49mcreate(arg, \u001b[39m'\u001b[39;49m\u001b[39mObject\u001b[39;49m\u001b[39m'\u001b[39;49m, [\u001b[39m'\u001b[39;49m\u001b[39mObject\u001b[39;49m\u001b[39m'\u001b[39;49m] \u001b[39m*\u001b[39;49m args_count)\n\u001b[0;32m    262\u001b[0m \u001b[39melif\u001b[39;00m \u001b[39misinstance\u001b[39m(arg, Encodable):\n\u001b[0;32m    263\u001b[0m   \u001b[39m# An ee.Function or a computed function like the return value of\u001b[39;00m\n\u001b[0;32m    264\u001b[0m   \u001b[39m# Image.parseExpression().\u001b[39;00m\n\u001b[0;32m    265\u001b[0m   \u001b[39mreturn\u001b[39;00m arg\n",
      "File \u001b[1;32mc:\\Users\\kyle\\anaconda3\\envs\\gee\\lib\\site-packages\\ee\\customfunction.py:125\u001b[0m, in \u001b[0;36mCustomFunction.create\u001b[1;34m(func, return_type, arg_types)\u001b[0m\n\u001b[0;32m    119\u001b[0m args \u001b[39m=\u001b[39m [{\u001b[39m'\u001b[39m\u001b[39mname\u001b[39m\u001b[39m'\u001b[39m: \u001b[39mNone\u001b[39;00m, \u001b[39m'\u001b[39m\u001b[39mtype\u001b[39m\u001b[39m'\u001b[39m: StringifyType(i)} \u001b[39mfor\u001b[39;00m i \u001b[39min\u001b[39;00m arg_types]\n\u001b[0;32m    120\u001b[0m signature \u001b[39m=\u001b[39m {\n\u001b[0;32m    121\u001b[0m     \u001b[39m'\u001b[39m\u001b[39mname\u001b[39m\u001b[39m'\u001b[39m: \u001b[39m'\u001b[39m\u001b[39m'\u001b[39m,\n\u001b[0;32m    122\u001b[0m     \u001b[39m'\u001b[39m\u001b[39mreturns\u001b[39m\u001b[39m'\u001b[39m: StringifyType(return_type),\n\u001b[0;32m    123\u001b[0m     \u001b[39m'\u001b[39m\u001b[39margs\u001b[39m\u001b[39m'\u001b[39m: args\n\u001b[0;32m    124\u001b[0m }\n\u001b[1;32m--> 125\u001b[0m \u001b[39mreturn\u001b[39;00m CustomFunction(signature, func)\n",
      "File \u001b[1;32mc:\\Users\\kyle\\anaconda3\\envs\\gee\\lib\\site-packages\\ee\\customfunction.py:43\u001b[0m, in \u001b[0;36mCustomFunction.__init__\u001b[1;34m(self, signature, body)\u001b[0m\n\u001b[0;32m     29\u001b[0m \u001b[39m\"\"\"Creates a function defined by a given expression with unbound variables.\u001b[39;00m\n\u001b[0;32m     30\u001b[0m \n\u001b[0;32m     31\u001b[0m \u001b[39mThe expression is created by evaluating the given function\u001b[39;00m\n\u001b[1;32m   (...)\u001b[0m\n\u001b[0;32m     38\u001b[0m \u001b[39m  body: The Python function to evaluate.\u001b[39;00m\n\u001b[0;32m     39\u001b[0m \u001b[39m\"\"\"\u001b[39;00m\n\u001b[0;32m     40\u001b[0m variables \u001b[39m=\u001b[39m [CustomFunction\u001b[39m.\u001b[39mvariable(arg[\u001b[39m'\u001b[39m\u001b[39mtype\u001b[39m\u001b[39m'\u001b[39m], arg[\u001b[39m'\u001b[39m\u001b[39mname\u001b[39m\u001b[39m'\u001b[39m])\n\u001b[0;32m     41\u001b[0m              \u001b[39mfor\u001b[39;00m arg \u001b[39min\u001b[39;00m signature[\u001b[39m'\u001b[39m\u001b[39margs\u001b[39m\u001b[39m'\u001b[39m]]\n\u001b[1;32m---> 43\u001b[0m \u001b[39mif\u001b[39;00m body(\u001b[39m*\u001b[39;49mvariables) \u001b[39mis\u001b[39;00m \u001b[39mNone\u001b[39;00m:\n\u001b[0;32m     44\u001b[0m   \u001b[39mraise\u001b[39;00m ee_exception\u001b[39m.\u001b[39mEEException(\u001b[39m'\u001b[39m\u001b[39mUser-defined methods must return a value\u001b[39m\u001b[39m'\u001b[39m)\n\u001b[0;32m     46\u001b[0m \u001b[39m# The signature of the function.\u001b[39;00m\n",
      "\u001b[1;32mc:\\mas-treatments-sim\\TreatmentSimulator_SCandCC_WUI_ProductionNotebook.ipynb Cell 16\u001b[0m in \u001b[0;36mtreat_by_year_huc\u001b[1;34m(l)\u001b[0m\n\u001b[0;32m     <a href='vscode-notebook-cell:/c%3A/mas-treatments-sim/TreatmentSimulator_SCandCC_WUI_ProductionNotebook.ipynb#X21sZmlsZQ%3D%3D?line=39'>40</a>\u001b[0m treated_area_img_Sw, Sw_properties \u001b[39m=\u001b[39m ee_treatments\u001b[39m.\u001b[39mee_treatments(hucs\u001b[39m=\u001b[39mhuc_group,\n\u001b[0;32m     <a href='vscode-notebook-cell:/c%3A/mas-treatments-sim/TreatmentSimulator_SCandCC_WUI_ProductionNotebook.ipynb#X21sZmlsZQ%3D%3D?line=40'>41</a>\u001b[0m                                               prescription\u001b[39m=\u001b[39marea_per_iteration_Sw, \u001b[39m# area_per_iteration_testing , reduce compute for testing\u001b[39;00m\n\u001b[0;32m     <a href='vscode-notebook-cell:/c%3A/mas-treatments-sim/TreatmentSimulator_SCandCC_WUI_ProductionNotebook.ipynb#X21sZmlsZQ%3D%3D?line=41'>42</a>\u001b[0m                                               unit_size\u001b[39m=\u001b[39mTREATMENT_SIZE,\n\u001b[1;32m   (...)\u001b[0m\n\u001b[0;32m     <a href='vscode-notebook-cell:/c%3A/mas-treatments-sim/TreatmentSimulator_SCandCC_WUI_ProductionNotebook.ipynb#X21sZmlsZQ%3D%3D?line=46'>47</a>\u001b[0m                                               ptOvershoot\u001b[39m=\u001b[39mPT_OVERSHOOT_Sw \u001b[39m# we dial this in per scenario to get close to a 1:1 of Needed:Generated\u001b[39;00m\n\u001b[0;32m     <a href='vscode-notebook-cell:/c%3A/mas-treatments-sim/TreatmentSimulator_SCandCC_WUI_ProductionNotebook.ipynb#X21sZmlsZQ%3D%3D?line=47'>48</a>\u001b[0m                                               )\n\u001b[0;32m     <a href='vscode-notebook-cell:/c%3A/mas-treatments-sim/TreatmentSimulator_SCandCC_WUI_ProductionNotebook.ipynb#X21sZmlsZQ%3D%3D?line=48'>49</a>\u001b[0m treated_area_img_Gd, Gd_properties \u001b[39m=\u001b[39m ee_treatments\u001b[39m.\u001b[39mee_treatments(hucs\u001b[39m=\u001b[39mhuc_group,\n\u001b[0;32m     <a href='vscode-notebook-cell:/c%3A/mas-treatments-sim/TreatmentSimulator_SCandCC_WUI_ProductionNotebook.ipynb#X21sZmlsZQ%3D%3D?line=49'>50</a>\u001b[0m                                               prescription\u001b[39m=\u001b[39marea_per_iteration_Gd, \u001b[39m# area_per_iteration_testing , reduce compute for testing\u001b[39;00m\n\u001b[0;32m     <a href='vscode-notebook-cell:/c%3A/mas-treatments-sim/TreatmentSimulator_SCandCC_WUI_ProductionNotebook.ipynb#X21sZmlsZQ%3D%3D?line=50'>51</a>\u001b[0m                                               unit_size\u001b[39m=\u001b[39mTREATMENT_SIZE,\n\u001b[1;32m   (...)\u001b[0m\n\u001b[0;32m     <a href='vscode-notebook-cell:/c%3A/mas-treatments-sim/TreatmentSimulator_SCandCC_WUI_ProductionNotebook.ipynb#X21sZmlsZQ%3D%3D?line=55'>56</a>\u001b[0m                                               ptOvershoot\u001b[39m=\u001b[39mPT_OVERSHOOT_Gd \u001b[39m# we dial this in per scenario to get close to a 1:1 of Needed:Generated\u001b[39;00m\n\u001b[0;32m     <a href='vscode-notebook-cell:/c%3A/mas-treatments-sim/TreatmentSimulator_SCandCC_WUI_ProductionNotebook.ipynb#X21sZmlsZQ%3D%3D?line=56'>57</a>\u001b[0m                                               )\n\u001b[1;32m---> <a href='vscode-notebook-cell:/c%3A/mas-treatments-sim/TreatmentSimulator_SCandCC_WUI_ProductionNotebook.ipynb#X21sZmlsZQ%3D%3D?line=57'>58</a>\u001b[0m Sw_properties_renamed \u001b[39m=\u001b[39m (ee\u001b[39m.\u001b[39;49mDictionary(Sw_properties)\n\u001b[0;32m     <a href='vscode-notebook-cell:/c%3A/mas-treatments-sim/TreatmentSimulator_SCandCC_WUI_ProductionNotebook.ipynb#X21sZmlsZQ%3D%3D?line=58'>59</a>\u001b[0m                          \u001b[39m.\u001b[39;49mrename(ee\u001b[39m.\u001b[39;49mDictionary(Sw_properties)\u001b[39m.\u001b[39;49mkeys()\n\u001b[0;32m     <a href='vscode-notebook-cell:/c%3A/mas-treatments-sim/TreatmentSimulator_SCandCC_WUI_ProductionNotebook.ipynb#X21sZmlsZQ%3D%3D?line=59'>60</a>\u001b[0m                                  \u001b[39m.\u001b[39;49mmap(\u001b[39mlambda\u001b[39;49;00m k:ee\u001b[39m.\u001b[39;49mString(k)\u001b[39m.\u001b[39;49mreplace(k,ee\u001b[39m.\u001b[39;49mString(\u001b[39m'\u001b[39;49m\u001b[39mSw_\u001b[39;49m\u001b[39m'\u001b[39;49m)\u001b[39m.\u001b[39;49mcat(ee\u001b[39m.\u001b[39;49mString(k))))))\n\u001b[0;32m     <a href='vscode-notebook-cell:/c%3A/mas-treatments-sim/TreatmentSimulator_SCandCC_WUI_ProductionNotebook.ipynb#X21sZmlsZQ%3D%3D?line=61'>62</a>\u001b[0m Gd_properties_renamed \u001b[39m=\u001b[39m (ee\u001b[39m.\u001b[39mDictionary(Gd_properties)\n\u001b[0;32m     <a href='vscode-notebook-cell:/c%3A/mas-treatments-sim/TreatmentSimulator_SCandCC_WUI_ProductionNotebook.ipynb#X21sZmlsZQ%3D%3D?line=62'>63</a>\u001b[0m                          \u001b[39m.\u001b[39mrename(ee\u001b[39m.\u001b[39mDictionary(Gd_properties)\u001b[39m.\u001b[39mkeys()\n\u001b[0;32m     <a href='vscode-notebook-cell:/c%3A/mas-treatments-sim/TreatmentSimulator_SCandCC_WUI_ProductionNotebook.ipynb#X21sZmlsZQ%3D%3D?line=63'>64</a>\u001b[0m                                  \u001b[39m.\u001b[39mmap(\u001b[39mlambda\u001b[39;00m k:ee\u001b[39m.\u001b[39mString(k)\u001b[39m.\u001b[39mreplace(k,ee\u001b[39m.\u001b[39mString(\u001b[39m'\u001b[39m\u001b[39mGd_\u001b[39m\u001b[39m'\u001b[39m)\u001b[39m.\u001b[39mcat(ee\u001b[39m.\u001b[39mString(k))))))\n\u001b[0;32m     <a href='vscode-notebook-cell:/c%3A/mas-treatments-sim/TreatmentSimulator_SCandCC_WUI_ProductionNotebook.ipynb#X21sZmlsZQ%3D%3D?line=65'>66</a>\u001b[0m \u001b[39mreturn\u001b[39;00m treated_area_img_Sw,Sw_properties_renamed,treated_area_img_Gd,Gd_properties_renamed\n",
      "File \u001b[1;32mc:\\Users\\kyle\\anaconda3\\envs\\gee\\lib\\site-packages\\ee\\apifunction.py:205\u001b[0m, in \u001b[0;36mApiFunction.importApi.<locals>.MakeBoundFunction.<locals>.<lambda>\u001b[1;34m(*args, **kwargs)\u001b[0m\n\u001b[0;32m    203\u001b[0m \u001b[39mdef\u001b[39;00m \u001b[39mMakeBoundFunction\u001b[39m(func):\n\u001b[0;32m    204\u001b[0m   \u001b[39m# We need the lambda to capture \"func\" from the enclosing scope.\u001b[39;00m\n\u001b[1;32m--> 205\u001b[0m   \u001b[39mreturn\u001b[39;00m \u001b[39mlambda\u001b[39;00m \u001b[39m*\u001b[39margs, \u001b[39m*\u001b[39m\u001b[39m*\u001b[39mkwargs: func\u001b[39m.\u001b[39;49mcall(\u001b[39m*\u001b[39;49margs, \u001b[39m*\u001b[39;49m\u001b[39m*\u001b[39;49mkwargs)\n",
      "File \u001b[1;32mc:\\Users\\kyle\\anaconda3\\envs\\gee\\lib\\site-packages\\ee\\function.py:67\u001b[0m, in \u001b[0;36mFunction.call\u001b[1;34m(self, *args, **kwargs)\u001b[0m\n\u001b[0;32m     55\u001b[0m \u001b[39mdef\u001b[39;00m \u001b[39mcall\u001b[39m(\u001b[39mself\u001b[39m, \u001b[39m*\u001b[39margs, \u001b[39m*\u001b[39m\u001b[39m*\u001b[39mkwargs):\n\u001b[0;32m     56\u001b[0m   \u001b[39m\"\"\"Calls the function with the given positional and keyword arguments.\u001b[39;00m\n\u001b[0;32m     57\u001b[0m \n\u001b[0;32m     58\u001b[0m \u001b[39m  Args:\u001b[39;00m\n\u001b[1;32m   (...)\u001b[0m\n\u001b[0;32m     65\u001b[0m \u001b[39m    to that type.\u001b[39;00m\n\u001b[0;32m     66\u001b[0m \u001b[39m  \"\"\"\u001b[39;00m\n\u001b[1;32m---> 67\u001b[0m   \u001b[39mreturn\u001b[39;00m \u001b[39mself\u001b[39;49m\u001b[39m.\u001b[39;49mapply(\u001b[39mself\u001b[39;49m\u001b[39m.\u001b[39;49mnameArgs(args, kwargs))\n",
      "File \u001b[1;32mc:\\Users\\kyle\\anaconda3\\envs\\gee\\lib\\site-packages\\ee\\function.py:80\u001b[0m, in \u001b[0;36mFunction.apply\u001b[1;34m(self, named_args)\u001b[0m\n\u001b[0;32m     69\u001b[0m \u001b[39mdef\u001b[39;00m \u001b[39mapply\u001b[39m(\u001b[39mself\u001b[39m, named_args):\n\u001b[0;32m     70\u001b[0m   \u001b[39m\"\"\"Calls the function with a dictionary of named arguments.\u001b[39;00m\n\u001b[0;32m     71\u001b[0m \n\u001b[0;32m     72\u001b[0m \u001b[39m  Args:\u001b[39;00m\n\u001b[1;32m   (...)\u001b[0m\n\u001b[0;32m     78\u001b[0m \u001b[39m    to that type.\u001b[39;00m\n\u001b[0;32m     79\u001b[0m \u001b[39m  \"\"\"\u001b[39;00m\n\u001b[1;32m---> 80\u001b[0m   result \u001b[39m=\u001b[39m computedobject\u001b[39m.\u001b[39mComputedObject(\u001b[39mself\u001b[39m, \u001b[39mself\u001b[39;49m\u001b[39m.\u001b[39;49mpromoteArgs(named_args))\n\u001b[0;32m     81\u001b[0m   \u001b[39mreturn\u001b[39;00m Function\u001b[39m.\u001b[39m_promoter(result, \u001b[39mself\u001b[39m\u001b[39m.\u001b[39mgetReturnType())\n",
      "File \u001b[1;32mc:\\Users\\kyle\\anaconda3\\envs\\gee\\lib\\site-packages\\ee\\function.py:111\u001b[0m, in \u001b[0;36mFunction.promoteArgs\u001b[1;34m(self, args)\u001b[0m\n\u001b[0;32m    107\u001b[0m     promoted_args[name] \u001b[39m=\u001b[39m Function\u001b[39m.\u001b[39m_promoter(args[name], spec[\u001b[39m'\u001b[39m\u001b[39mtype\u001b[39m\u001b[39m'\u001b[39m])\n\u001b[0;32m    108\u001b[0m   \u001b[39melif\u001b[39;00m \u001b[39mnot\u001b[39;00m spec\u001b[39m.\u001b[39mget(\u001b[39m'\u001b[39m\u001b[39moptional\u001b[39m\u001b[39m'\u001b[39m):\n\u001b[0;32m    109\u001b[0m     \u001b[39mraise\u001b[39;00m ee_exception\u001b[39m.\u001b[39mEEException(\n\u001b[0;32m    110\u001b[0m         \u001b[39m'\u001b[39m\u001b[39mRequired argument (\u001b[39m\u001b[39m%s\u001b[39;00m\u001b[39m) missing to function: \u001b[39m\u001b[39m%s\u001b[39;00m\u001b[39m'\u001b[39m\n\u001b[1;32m--> 111\u001b[0m         \u001b[39m%\u001b[39m (name, \u001b[39mself\u001b[39;49m\u001b[39m.\u001b[39;49mname))\n\u001b[0;32m    112\u001b[0m   known\u001b[39m.\u001b[39madd(name)\n\u001b[0;32m    114\u001b[0m \u001b[39m# Check for unknown arguments.\u001b[39;00m\n",
      "\u001b[1;31mAttributeError\u001b[0m: 'ApiFunction' object has no attribute 'name'"
     ]
    }
   ],
   "source": [
    "# We use .map() to parallelize computation of treatment area images across the four 5-year intervals, \n",
    "# treating equal amount of area within each percentile ranking list, returning 4 treatment ee.Images, \n",
    "# then mosaicking them into one ee.Image for export\n",
    "\n",
    "# # returns ee.List((ee.Image1,ee.Dictionary1),(ee.Image2,ee.Dictionary2),(etc))\n",
    "# results = ee.List(zipped).map(treat_by_year_huc)\n",
    "# # print(results.getInfo())\n",
    "\n",
    "# # parse the images and properties out of the (image,properties) tuples by .map()ing over results\n",
    "# images = results.map(lambda t: ee.List(t).get(0)) \n",
    "# properties = results.map(lambda t: ee.List(t).get(1))\n",
    "\n",
    "# # remap the keys of the properties so they are unique per ee_treatments() image run, then combine into one properties dict\n",
    "# all_properties = properties.map(remap_keys).map(combine_dicts).flatten()\n",
    "# # print(all_properties.getInfo())\n",
    "\n",
    "# # mosaic all ee_treatment() images together and set the fixed properties \n",
    "# output = ee.Image(ee.ImageCollection.fromImages(images).mosaic()).set(all_properties)\n",
    "\n",
    "# # export\n",
    "# desc = f'{RUNID}_{os.path.basename(output_image)}'\n",
    "\n",
    "# folder = os.path.dirname(output_image)\n",
    "# if check_exists(folder):\n",
    "#     print(f'making new folder: {folder}')\n",
    "#     os.popen(f'earthengine create folder {folder}').read()\n",
    "# ee_treatments.export_img(output,desc,output_image,all_hucs.geometry(),30,'EPSG:5070')"
   ]
  },
  {
   "cell_type": "markdown",
   "id": "4ae2584a",
   "metadata": {},
   "source": [
    "Pulling out image and properties from both ee_treatments() runs now instead of just the one"
   ]
  },
  {
   "cell_type": "markdown",
   "id": "ed393397",
   "metadata": {},
   "source": [
    "Separate function for making treated area Image from Road Grid Cells per Percentile HUC Group"
   ]
  },
  {
   "cell_type": "code",
   "execution_count": 19,
   "id": "77fad15e",
   "metadata": {},
   "outputs": [],
   "source": [
    "# def treat_by_year_huc_Gd_cells(l):\n",
    "#     \"\"\"\n",
    "#     this is to be map()ed across zipped (year intervals and percentile huc filters) to parallelize use of ee_treatments()\n",
    "#         result is one ee.Image of treatment areas per yearInterval/HUC Group element in zipped     \n",
    "#     \"\"\"\n",
    "#     zipped_list = ee.List(l)\n",
    "#     ranks_filter = ee.Filter(zipped_list.get(1))\n",
    "    \n",
    "#     # pixel value of resulting image represents iteration number (e.g. 1 = years 1-5, e = years 6-10,etc)\n",
    "#     pixel_value_iteration = ee.Number(ee.List(zipped).indexOf(l)).add(1)\n",
    "\n",
    "#     # Get HUC group\n",
    "#     huc_group = (all_hucs.filter(ee.Filter.eq('RRK_Rgn', runs.key[RUNID]['Region Filter Name']))\n",
    "#                 .filter(ranks_filter)\n",
    "#                 # .limit(2) # for testing, reduce compute for development\n",
    "#                 )\n",
    "#     propGd = ee.Number(ee.FeatureCollection(huc_group).first().get(propGdName))\n",
    "#     # we are creating a simple polygon->raster result from the road grid cell polygons based on the number of road grid cells we need   \n",
    "#     area_per_iteration_ac_Gd = ee.Number(area_per_iteration_ac).multiply(propGd) \n",
    "#     prescribed_Gd_cell_count = area_per_iteration_ac_Gd.divide(100).round() # how many 100ac road grid cells we need for prescription\n",
    "#     Gd_cells_filtered = Gd_cells.filterBounds(huc_group).randomColumn().limit(prescribed_Gd_cell_count,'random',True) # randomly select the amount we need\n",
    "#     Gd_cells_img = ee.Image(0).paint(Gd_cells_filtered,pixel_value_iteration) # road grid cells burned in as pixel_value_iteration (same as ee_treatments())\n",
    "#     Gd_cells_properties = ee.Dictionary({'area_per_iteration_ac_gd':area_per_iteration_ac_Gd,\n",
    "#                                          'prescribed_Gd_cell_count':prescribed_Gd_cell_count,\n",
    "#                                          'yearInterval':pixel_value_iteration})\n",
    "#     return Gd_cells_img.set(Gd_cells_properties).rename('Tx'), Gd_cells_properties\n",
    "\n",
    "# # had to redefine this cause of idx position of 'yearInterval' has to change\n",
    "# def remap_keys(d):\n",
    "#   \"\"\"\n",
    "#   solves a QA property problem for ee_treatments(): we have duplicate key names in the properties dict \n",
    "#   when multiple ee_treatments() results are combined together.\n",
    "#   So we create a unique identifier from 'yearInterval' and remove 'yearInterval' as a property itself.\n",
    "#   example: 'PropertyName': PropertyValue becomes 'yearInterval1PropertyName': PropertyValue\n",
    "#   \"\"\"\n",
    "#   d = ee.Dictionary(d)\n",
    "#   yearInterval = (ee.String('yearInterval')\n",
    "#   .cat(ee.Number(ee.Dictionary(d).get('yearInterval')).format()))\n",
    "#   keys = d.keys().slice(0,3) # depends on yearInterval property being in certain index position of property list returned by ee_treatments()\n",
    "#   values = d.values().slice(0,3)\n",
    "#   remapped_keys = keys.map(lambda s: ee.String(yearInterval).cat(s))\n",
    "#   return ee.Dictionary.fromLists(remapped_keys,values)\n"
   ]
  },
  {
   "cell_type": "markdown",
   "id": "624ae691",
   "metadata": {},
   "source": [
    "Export Road Grid Cell Image\n"
   ]
  },
  {
   "cell_type": "code",
   "execution_count": 24,
   "id": "ce5f1eab",
   "metadata": {},
   "outputs": [
    {
     "name": "stdout",
     "output_type": "stream",
     "text": [
      "['yearInterval1area_per_iteration_ac_gd', 340081.7497935, 'yearInterval1prescribed_Gd_cell_count', 3401, 'yearInterval1yearInterval', 1, 'yearInterval2area_per_iteration_ac_gd', 292140.7896462, 'yearInterval2prescribed_Gd_cell_count', 2921, 'yearInterval2yearInterval', 2, 'yearInterval3area_per_iteration_ac_gd', 233225.17693560003, 'yearInterval3prescribed_Gd_cell_count', 2332, 'yearInterval3yearInterval', 3, 'yearInterval4area_per_iteration_ac_gd', 340081.7497935, 'yearInterval4prescribed_Gd_cell_count', 3401, 'yearInterval4yearInterval', 4]\n",
      "Export Started for projects/mas-gee/assets/treatment_scenarios/RunID19/SC_WUI_500k_20230921_test_Road_Grids\n"
     ]
    }
   ],
   "source": [
    "\n",
    "# # retrive list of treated images\n",
    "# results = ee.List(zipped).map(treat_by_year_huc_Gd_cells)\n",
    "# # print(results.getInfo())\n",
    "\n",
    "# # parse the images and properties out of the (image,properties) tuples by .map()ing over results\n",
    "# images = results.map(lambda t: ee.List(t).get(0)) \n",
    "# properties = results.map(lambda t: ee.List(t).get(1))\n",
    "# # print(properties.getInfo())\n",
    "# # remap the keys of the properties so they are unique per ee_treatments() image run, then combine into one properties dict\n",
    "# all_properties = properties.map(remap_keys).map(combine_dicts).flatten()\n",
    "# # print(all_properties.getInfo())\n",
    "\n",
    "# #mosaic them \n",
    "# out_img = ee.Image(ee.ImageCollection.fromImages(images).mosaic()).set(all_properties)\n",
    "# out_Gd_path = f\"{output_image}_Road_Grids\"\n",
    "# # export\n",
    "# desc_Gd = f'{RUNID}_{os.path.basename(output_image)}_road_grid'\n",
    "\n",
    "# folder = os.path.dirname(output_image)\n",
    "# if check_exists(folder):\n",
    "#     print(f'making new folder: {folder}')\n",
    "#     os.popen(f'earthengine create folder {folder}').read()\n",
    "# ee_treatments.export_img(out_img,desc_Gd,out_Gd_path,all_hucs.geometry(),30,'EPSG:5070')\n"
   ]
  }
 ],
 "metadata": {
  "kernelspec": {
   "display_name": "Python 3.8.13 ('gee')",
   "language": "python",
   "name": "python3"
  },
  "language_info": {
   "codemirror_mode": {
    "name": "ipython",
    "version": 3
   },
   "file_extension": ".py",
   "mimetype": "text/x-python",
   "name": "python",
   "nbconvert_exporter": "python",
   "pygments_lexer": "ipython3",
   "version": "3.8.13"
  },
  "vscode": {
   "interpreter": {
    "hash": "5456adbb3bcda72c3f039b556ea69b5085f7c81f44c93a142b7acd907f0ad587"
   }
  }
 },
 "nbformat": 4,
 "nbformat_minor": 5
}
